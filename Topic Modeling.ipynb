{
 "cells": [
  {
   "cell_type": "markdown",
   "id": "f336be30",
   "metadata": {},
   "source": [
    "# Andrew Kim\n",
    "\n",
    "# ADS 509-01-SU23: Applied Text Mining\n",
    "\n",
    "# Assignment 5.1: Topic Modeling\n",
    "\n",
    "# 6/12/2023"
   ]
  },
  {
   "cell_type": "markdown",
   "id": "bce2bb89",
   "metadata": {},
   "source": [
    "# ADS 509 Assignment 5.1: Topic Modeling\n",
    "\n",
    "This notebook holds Assignment 5.1 for Module 5 in ADS 509, Applied Text Mining. Work through this notebook, writing code and answering questions where required. \n",
    "\n",
    "In this assignment you will work with a categorical corpus that accompanies `nltk`. You will build the three types of topic models described in Chapter 8 of _Blueprints for Text Analytics using Python_: NMF, LSA, and LDA. You will compare these models to the true categories. "
   ]
  },
  {
   "cell_type": "markdown",
   "id": "1913cd4a",
   "metadata": {},
   "source": [
    "## General Assignment Instructions\n",
    "\n",
    "These instructions are included in every assignment, to remind you of the coding standards for the class. Feel free to delete this cell after reading it. \n",
    "\n",
    "One sign of mature code is conforming to a style guide. We recommend the [Google Python Style Guide](https://google.github.io/styleguide/pyguide.html). If you use a different style guide, please include a cell with a link. \n",
    "\n",
    "Your code should be relatively easy-to-read, sensibly commented, and clean. Writing code is a messy process, so please be sure to edit your final submission. Remove any cells that are not needed or parts of cells that contain unnecessary code. Remove inessential `import` statements and make sure that all such statements are moved into the designated cell. \n",
    "\n",
    "Make use of non-code cells for written commentary. These cells should be grammatical and clearly written. In some of these cells you will have questions to answer. The questions will be marked by a \"Q:\" and will have a corresponding \"A:\" spot for you. *Make sure to answer every question marked with a `Q:` for full credit.* "
   ]
  },
  {
   "cell_type": "code",
   "execution_count": 2,
   "id": "a85bce08",
   "metadata": {},
   "outputs": [
    {
     "name": "stderr",
     "output_type": "stream",
     "text": [
      "C:\\Users\\andre\\anaconda3\\lib\\site-packages\\ipykernel\\ipkernel.py:287: DeprecationWarning: `should_run_async` will not call `transform_cell` automatically in the future. Please pass the result to `transformed_cell` argument and any exception that happen during thetransform in `preprocessing_exc_tuple` in IPython 7.17 and above.\n",
      "  and should_run_async(code)\n"
     ]
    }
   ],
   "source": [
    "# These libraries may be useful to you\n",
    "\n",
    "#!pip install pyLDAvis==3.4.1 --user  #You need to restart the Kernel after installation.\n",
    "# You also need a Python version => 3.9.0\n",
    "from nltk.corpus import brown\n",
    "\n",
    "import numpy as np\n",
    "import pandas as pd\n",
    "from tqdm.auto import tqdm\n",
    "\n",
    "import pyLDAvis\n",
    "import pyLDAvis.lda_model\n",
    "import pyLDAvis.gensim_models\n",
    "\n",
    "import spacy\n",
    "from sklearn.feature_extraction.text import TfidfVectorizer, CountVectorizer\n",
    "from sklearn.decomposition import NMF, TruncatedSVD, LatentDirichletAllocation\n",
    "from spacy.lang.en.stop_words import STOP_WORDS as stopwords\n",
    "from collections import Counter, defaultdict\n",
    "\n",
    "import en_core_web_sm\n",
    "nlp = en_core_web_sm.load()\n",
    "nlp = spacy.load('en_core_web_sm')"
   ]
  },
  {
   "cell_type": "code",
   "execution_count": 3,
   "id": "58b1531a",
   "metadata": {},
   "outputs": [
    {
     "name": "stderr",
     "output_type": "stream",
     "text": [
      "C:\\Users\\andre\\anaconda3\\lib\\site-packages\\ipykernel\\ipkernel.py:287: DeprecationWarning: `should_run_async` will not call `transform_cell` automatically in the future. Please pass the result to `transformed_cell` argument and any exception that happen during thetransform in `preprocessing_exc_tuple` in IPython 7.17 and above.\n",
      "  and should_run_async(code)\n",
      "[nltk_data] Downloading package brown to\n",
      "[nltk_data]     C:\\Users\\andre\\AppData\\Roaming\\nltk_data...\n",
      "[nltk_data]   Package brown is already up-to-date!\n"
     ]
    }
   ],
   "source": [
    "# add any additional libraries you need here\n",
    "import nltk\n",
    "nltk.download('brown')\n",
    "import warnings\n",
    "warnings.filterwarnings('ignore')"
   ]
  },
  {
   "cell_type": "code",
   "execution_count": 4,
   "id": "3f33a6f1",
   "metadata": {},
   "outputs": [],
   "source": [
    "# This function comes from the BTAP repo.\n",
    "\n",
    "def display_topics(model, features, no_top_words=5):\n",
    "    for topic, words in enumerate(model.components_):\n",
    "        total = words.sum()\n",
    "        largest = words.argsort()[::-1] # invert sort order\n",
    "        print(\"\\nTopic %02d\" % topic)\n",
    "        for i in range(0, no_top_words):\n",
    "            print(\"  %s (%2.2f)\" % (features[largest[i]], abs(words[largest[i]]*100.0/total)))"
   ]
  },
  {
   "cell_type": "markdown",
   "id": "a30a901c",
   "metadata": {},
   "source": [
    "## Getting to Know the Brown Corpus\n",
    "\n",
    "Let's spend a bit of time getting to know what's in the Brown corpus, our NLTK example of an \"overlapping\" corpus."
   ]
  },
  {
   "cell_type": "code",
   "execution_count": 5,
   "id": "31e09f2b",
   "metadata": {},
   "outputs": [
    {
     "name": "stdout",
     "output_type": "stream",
     "text": [
      "For adventure we have 29 articles.\n",
      "For belles_lettres we have 75 articles.\n",
      "For editorial we have 27 articles.\n",
      "For fiction we have 29 articles.\n",
      "For government we have 30 articles.\n",
      "For hobbies we have 36 articles.\n",
      "For humor we have 9 articles.\n",
      "For learned we have 80 articles.\n",
      "For lore we have 48 articles.\n",
      "For mystery we have 24 articles.\n",
      "For news we have 44 articles.\n",
      "For religion we have 17 articles.\n",
      "For reviews we have 17 articles.\n",
      "For romance we have 29 articles.\n",
      "For science_fiction we have 6 articles.\n"
     ]
    }
   ],
   "source": [
    "# categories of articles in Brown corpus\n",
    "for category in brown.categories() :\n",
    "    print(f\"For {category} we have {len(brown.fileids(categories=category))} articles.\")"
   ]
  },
  {
   "cell_type": "markdown",
   "id": "23fb133c",
   "metadata": {},
   "source": [
    "Let's create a dataframe of the articles in of hobbies, editorial, government, news, and romance."
   ]
  },
  {
   "cell_type": "code",
   "execution_count": 6,
   "id": "5ab8647d",
   "metadata": {},
   "outputs": [
    {
     "data": {
      "text/plain": [
       "(166, 3)"
      ]
     },
     "execution_count": 6,
     "metadata": {},
     "output_type": "execute_result"
    }
   ],
   "source": [
    "categories = ['editorial','government','news','romance','hobbies'] \n",
    "\n",
    "category_list = []\n",
    "file_ids = []\n",
    "texts = []\n",
    "\n",
    "for category in categories : \n",
    "    for file_id in brown.fileids(categories=category) :\n",
    "        \n",
    "        # build some lists for a dataframe\n",
    "        category_list.append(category)\n",
    "        file_ids.append(file_id)\n",
    "        \n",
    "        text = brown.words(fileids=file_id)\n",
    "        texts.append(\" \".join(text))\n",
    "\n",
    "df = pd.DataFrame()\n",
    "df['category'] = category_list\n",
    "df['id'] = file_ids\n",
    "df['text'] = texts \n",
    "\n",
    "df.shape"
   ]
  },
  {
   "cell_type": "code",
   "execution_count": 7,
   "id": "add12864",
   "metadata": {},
   "outputs": [],
   "source": [
    "# Let's add some helpful columns on the df\n",
    "df['char_len'] = df['text'].apply(len)\n",
    "df['word_len'] = df['text'].apply(lambda x: len(x.split()))"
   ]
  },
  {
   "cell_type": "code",
   "execution_count": 8,
   "id": "da5e0a8b",
   "metadata": {},
   "outputs": [
    {
     "data": {
      "text/plain": [
       "<AxesSubplot:xlabel='category'>"
      ]
     },
     "execution_count": 8,
     "metadata": {},
     "output_type": "execute_result"
    },
    {
     "data": {
      "image/png": "[encoded data removed]",
      "text/plain": [
       "<Figure size 720x432 with 1 Axes>"
      ]
     },
     "metadata": {
      "needs_background": "light"
     },
     "output_type": "display_data"
    }
   ],
   "source": [
    "%matplotlib inline\n",
    "df.groupby('category').agg({'word_len': 'mean'}).plot.bar(figsize=(10,6))"
   ]
  },
  {
   "cell_type": "markdown",
   "id": "554ffeb5",
   "metadata": {},
   "source": [
    "Now do our TF-IDF and Count vectorizations."
   ]
  },
  {
   "cell_type": "code",
   "execution_count": 9,
   "id": "21a7d247",
   "metadata": {},
   "outputs": [
    {
     "data": {
      "text/plain": [
       "(166, 4941)"
      ]
     },
     "execution_count": 9,
     "metadata": {},
     "output_type": "execute_result"
    }
   ],
   "source": [
    "count_text_vectorizer = CountVectorizer(stop_words=list(stopwords), min_df=5, max_df=0.7)\n",
    "count_text_vectors = count_text_vectorizer.fit_transform(df[\"text\"])\n",
    "count_text_vectors.shape"
   ]
  },
  {
   "cell_type": "code",
   "execution_count": 10,
   "id": "875deba9",
   "metadata": {},
   "outputs": [
    {
     "data": {
      "text/plain": [
       "(166, 4941)"
      ]
     },
     "execution_count": 10,
     "metadata": {},
     "output_type": "execute_result"
    }
   ],
   "source": [
    "tfidf_text_vectorizer = TfidfVectorizer(stop_words=list(stopwords), min_df=5, max_df=0.7)\n",
    "tfidf_text_vectors = tfidf_text_vectorizer.fit_transform(df['text'])\n",
    "tfidf_text_vectors.shape"
   ]
  },
  {
   "cell_type": "markdown",
   "id": "a1062b21",
   "metadata": {},
   "source": [
    "Q: What do the two data frames `count_text_vectors` and `tfidf_text_vectors` hold? \n",
    "\n",
    "A: __The data frame 'count_text_vectors' holds a collection of the text/word counts from each document in Brown corpus. Essentially, each document features a vector that contains the count of the texts/words within each document.__\n",
    "\n",
    "__The data frame 'tfidf_text_vectors' holds a collection of the text/word counts that matches TF-IDF (Term Frequency - Inverse Document Frequency) from the documents. In this instance, each document features a vector that contains the words that appear relevant towards each document or within a series or corpus. This adds a weighting factor towards a modeling process when identifying words that appear most relevant from each document.__ "
   ]
  },
  {
   "cell_type": "markdown",
   "id": "f77c3f94",
   "metadata": {},
   "source": [
    "## Fitting a Non-Negative Matrix Factorization Model\n",
    "\n",
    "In this section the code to fit a five-topic NMF model has already been written. This code comes directly from the [BTAP repo](https://github.com/blueprints-for-text-analytics-python/blueprints-text), which will help you tremendously in the coming sections. "
   ]
  },
  {
   "cell_type": "code",
   "execution_count": 11,
   "id": "d28745a3",
   "metadata": {},
   "outputs": [],
   "source": [
    "nmf_text_model = NMF(n_components=5, random_state=314)\n",
    "W_text_matrix = nmf_text_model.fit_transform(tfidf_text_vectors)\n",
    "H_text_matrix = nmf_text_model.components_"
   ]
  },
  {
   "cell_type": "code",
   "execution_count": 12,
   "id": "a67185e7",
   "metadata": {},
   "outputs": [
    {
     "name": "stdout",
     "output_type": "stream",
     "text": [
      "\n",
      "Topic 00\n",
      "  mr (0.51)\n",
      "  president (0.45)\n",
      "  kennedy (0.43)\n",
      "  united (0.42)\n",
      "  khrushchev (0.40)\n",
      "\n",
      "Topic 01\n",
      "  said (0.88)\n",
      "  didn (0.46)\n",
      "  ll (0.45)\n",
      "  thought (0.42)\n",
      "  man (0.37)\n",
      "\n",
      "Topic 02\n",
      "  state (0.39)\n",
      "  development (0.36)\n",
      "  tax (0.33)\n",
      "  sales (0.30)\n",
      "  program (0.25)\n",
      "\n",
      "Topic 03\n",
      "  mrs (2.61)\n",
      "  mr (0.78)\n",
      "  said (0.63)\n",
      "  miss (0.52)\n",
      "  car (0.51)\n",
      "\n",
      "Topic 04\n",
      "  game (1.02)\n",
      "  league (0.74)\n",
      "  ball (0.72)\n",
      "  baseball (0.71)\n",
      "  team (0.66)\n"
     ]
    }
   ],
   "source": [
    "display_topics(nmf_text_model, tfidf_text_vectorizer.get_feature_names_out())"
   ]
  },
  {
   "cell_type": "markdown",
   "id": "fee51e9b",
   "metadata": {},
   "source": [
    "Now some work for you to do. Compare the NMF factorization to the original categories from the Brown Corpus.\n",
    "\n",
    "We are interested in the extent to which our NMF factorization agrees or disagrees with the original categories in the corpus. For each topic in your NMF model, tally the Brown categories and interpret the results. "
   ]
  },
  {
   "cell_type": "code",
   "execution_count": 13,
   "id": "6dcfcb52",
   "metadata": {},
   "outputs": [
    {
     "name": "stdout",
     "output_type": "stream",
     "text": [
      "For Category editorial we have 20 Articles in Topic 0 (vs. editorial Actual of 27).\n",
      "For Category editorial we have 4 Articles in Topic 1 (vs. editorial Actual of 27).\n",
      "For Category editorial we have 2 Articles in Topic 2 (vs. editorial Actual of 27).\n",
      "For Category editorial we have 1 Articles in Topic 4 (vs. editorial Actual of 27).\n",
      "For Category government we have 4 Articles in Topic 0 (vs. government Actual of 30).\n",
      "For Category government we have 26 Articles in Topic 2 (vs. government Actual of 30).\n",
      "For Category hobbies we have 8 Articles in Topic 1 (vs. hobbies Actual of 36).\n",
      "For Category hobbies we have 26 Articles in Topic 2 (vs. hobbies Actual of 36).\n",
      "For Category hobbies we have 1 Articles in Topic 3 (vs. hobbies Actual of 36).\n",
      "For Category hobbies we have 1 Articles in Topic 4 (vs. hobbies Actual of 36).\n",
      "For Category news we have 8 Articles in Topic 0 (vs. news Actual of 44).\n",
      "For Category news we have 11 Articles in Topic 2 (vs. news Actual of 44).\n",
      "For Category news we have 17 Articles in Topic 3 (vs. news Actual of 44).\n",
      "For Category news we have 8 Articles in Topic 4 (vs. news Actual of 44).\n",
      "For Category romance we have 29 Articles in Topic 1 (vs. romance Actual of 29).\n"
     ]
    }
   ],
   "source": [
    "# Your code here\n",
    "def compare(orig_df, W_text_matrix):\n",
    "    #Generate a list of Brown categories by topic\n",
    "    #Analyze document by document\n",
    "    #Code provided by professor from Slack channel\n",
    "    category_by_topic = defaultdict(list) \n",
    "    for idx, row in enumerate(W_text_matrix): \n",
    "        topic = np.where(row == np.amax(row))[0] \n",
    "        category = orig_df['category'].iloc[idx] \n",
    "        category_by_topic[topic[0]].append(category)\n",
    "\n",
    "    article_count = orig_df['category'].value_counts().to_dict()    \n",
    "    \n",
    "    unique_categories = sorted(set(category for categories in category_by_topic.values()\n",
    "                                   for category in categories))\n",
    "\n",
    "    for category in unique_categories:\n",
    "        for key in sorted(category_by_topic): \n",
    "            category_counts = Counter(category_by_topic[key]) \n",
    "            if category in category_counts:  \n",
    "                print(\n",
    "                    f'For Category {category} we have '\n",
    "                    f'{category_counts[category]} Articles in Topic {key} '\n",
    "                    f'(vs. {category} Actual of {article_count[category]}).')\n",
    "                \n",
    "compare(df, W_text_matrix)"
   ]
  },
  {
   "cell_type": "markdown",
   "id": "f8d4e2bc",
   "metadata": {},
   "source": [
    "Q: How does your five-topic NMF model compare to the original Brown categories? \n",
    "\n",
    "A: __The five-topic NMF model generated a stacked categorical list of articles pertaining towards each \"Topic\" number (i.e.: 0, 1, 2, 3, 4) that was bunched, but specified towards each \"Category\" type (i.e.: editorial government, hobbies, news, and romance) with the number of articles towards each \"Topic\" number.__\n",
    "\n",
    "__In general, the NMF model generated results that were mixed with a diversity of the number of articles towards \"Topic\" number and \"Category\" type. Upon analysis of the results, the Categories \"editorial\", \"hobbies\", and \"news\" were highly various across four \"Topic\" numbers, with the \"news\" category receiving the most number of various articles while the \"romance\" category received less variation after being various towards Topic 1 at 29 articles.__"
   ]
  },
  {
   "cell_type": "markdown",
   "id": "82e37cb5",
   "metadata": {},
   "source": [
    "## Fitting an LSA Model\n",
    "\n",
    "In this section, follow the example from the repository and fit an LSA model (called a \"TruncatedSVD\" in `sklearn`). Again fit a five-topic model and compare it to the actual categories in the Brown corpus. Use the TF-IDF vectors for your fit, as above. \n",
    "\n",
    "To be explicit, we are once again interested in the extent to which this LSA factorization agrees or disagrees with the original categories in the corpus. For each topic in your model, tally the Brown categories and interpret the results. \n"
   ]
  },
  {
   "cell_type": "code",
   "execution_count": 14,
   "id": "ccd6c187",
   "metadata": {},
   "outputs": [
    {
     "name": "stdout",
     "output_type": "stream",
     "text": [
      "For Category editorial we have 27 Articles in Topic 0 (vs. editorial Actual of 27).\n",
      "For Category government we have 30 Articles in Topic 0 (vs. government Actual of 30).\n",
      "For Category hobbies we have 36 Articles in Topic 0 (vs. hobbies Actual of 36).\n",
      "For Category news we have 34 Articles in Topic 0 (vs. news Actual of 44).\n",
      "For Category news we have 3 Articles in Topic 3 (vs. news Actual of 44).\n",
      "For Category news we have 7 Articles in Topic 4 (vs. news Actual of 44).\n",
      "For Category romance we have 21 Articles in Topic 0 (vs. romance Actual of 29).\n",
      "For Category romance we have 8 Articles in Topic 1 (vs. romance Actual of 29).\n"
     ]
    }
   ],
   "source": [
    "# Your code here\n",
    "lsa_text_model = TruncatedSVD(n_components=5, random_state=314)\n",
    "W_lsa_text_matrix = lsa_text_model.fit_transform(tfidf_text_vectors)\n",
    "H_lsa_text_matrix = lsa_text_model.components_\n",
    "\n",
    "compare(df, W_lsa_text_matrix)"
   ]
  },
  {
   "cell_type": "markdown",
   "id": "4d94d56f",
   "metadata": {},
   "source": [
    "Q: How does your five-topic LSA model compare to the original Brown categories? \n",
    "\n",
    "A: __The results generated by the five-topic LSA model were more consistent and clean compared to the NMF model in that the results appeared to focus more towards a specific Topic number (in this case, Topic 0) towards each Category type. Like the NMF model, the news category featured more various articles, total of 44, across three topics. On the contrary, the romance category varied more towards the number of articles across two topics.__"
   ]
  },
  {
   "cell_type": "code",
   "execution_count": 15,
   "id": "0b95b401",
   "metadata": {},
   "outputs": [
    {
     "name": "stdout",
     "output_type": "stream",
     "text": [
      "\n",
      "Topic 00\n",
      "  said (0.44)\n",
      "  mr (0.25)\n",
      "  mrs (0.22)\n",
      "  state (0.20)\n",
      "  man (0.17)\n",
      "\n",
      "Topic 01\n",
      "  said (3.89)\n",
      "  ll (2.73)\n",
      "  didn (2.63)\n",
      "  thought (2.20)\n",
      "  got (1.97)\n",
      "\n",
      "Topic 02\n",
      "  mrs (3.12)\n",
      "  mr (1.70)\n",
      "  said (1.06)\n",
      "  kennedy (0.82)\n",
      "  khrushchev (0.77)\n",
      "\n",
      "Topic 03\n",
      "  mrs (29.45)\n",
      "  club (6.53)\n",
      "  game (6.12)\n",
      "  jr (5.60)\n",
      "  university (5.20)\n",
      "\n",
      "Topic 04\n",
      "  game (4.54)\n",
      "  league (3.27)\n",
      "  baseball (3.22)\n",
      "  ball (3.10)\n",
      "  team (2.94)\n"
     ]
    }
   ],
   "source": [
    "# call display_topics on your model\n",
    "display_topics(lsa_text_model, tfidf_text_vectorizer.get_feature_names_out())"
   ]
  },
  {
   "cell_type": "markdown",
   "id": "ea8b280a",
   "metadata": {},
   "source": [
    "Q: What is your interpretation of the display topics output? \n",
    "\n",
    "A: __Each topic number includes a list of the top-five words that appeared important or relevant towards a respective article. The word list featured under each topic appears to be arranged in a descending order and is based on the importance of each word towards an article number/type, with the top word of the list being labeled as highly important and relevant to what a respective topic is about.__"
   ]
  },
  {
   "cell_type": "markdown",
   "id": "b4ab4d29",
   "metadata": {},
   "source": [
    "## Fitting an LDA Model\n",
    "\n",
    "Finally, fit a five-topic LDA model using the count vectors (`count_text_vectors` from above). Display the results using `pyLDAvis.display` and describe what you learn from that visualization. "
   ]
  },
  {
   "cell_type": "code",
   "execution_count": 16,
   "id": "802cb8ff",
   "metadata": {},
   "outputs": [],
   "source": [
    "# Fit your LDA model here\n",
    "lda_text_model = LatentDirichletAllocation(n_components=5, random_state=314)\n",
    "W_lda_text_matrix = lda_text_model.fit_transform(count_text_vectors)\n",
    "H_lda_text_matrix = lda_text_model.components_"
   ]
  },
  {
   "cell_type": "code",
   "execution_count": 17,
   "id": "f545aa03",
   "metadata": {},
   "outputs": [
    {
     "name": "stdout",
     "output_type": "stream",
     "text": [
      "For Category editorial we have 3 Articles in Topic 0 (vs. editorial Actual of 27).\n",
      "For Category editorial we have 1 Articles in Topic 1 (vs. editorial Actual of 27).\n",
      "For Category editorial we have 21 Articles in Topic 2 (vs. editorial Actual of 27).\n",
      "For Category editorial we have 2 Articles in Topic 3 (vs. editorial Actual of 27).\n",
      "For Category government we have 1 Articles in Topic 0 (vs. government Actual of 30).\n",
      "For Category government we have 12 Articles in Topic 1 (vs. government Actual of 30).\n",
      "For Category government we have 3 Articles in Topic 2 (vs. government Actual of 30).\n",
      "For Category government we have 4 Articles in Topic 3 (vs. government Actual of 30).\n",
      "For Category government we have 10 Articles in Topic 4 (vs. government Actual of 30).\n",
      "For Category hobbies we have 11 Articles in Topic 0 (vs. hobbies Actual of 36).\n",
      "For Category hobbies we have 9 Articles in Topic 1 (vs. hobbies Actual of 36).\n",
      "For Category hobbies we have 2 Articles in Topic 2 (vs. hobbies Actual of 36).\n",
      "For Category hobbies we have 8 Articles in Topic 3 (vs. hobbies Actual of 36).\n",
      "For Category hobbies we have 6 Articles in Topic 4 (vs. hobbies Actual of 36).\n",
      "For Category news we have 4 Articles in Topic 0 (vs. news Actual of 44).\n",
      "For Category news we have 3 Articles in Topic 1 (vs. news Actual of 44).\n",
      "For Category news we have 32 Articles in Topic 2 (vs. news Actual of 44).\n",
      "For Category news we have 3 Articles in Topic 3 (vs. news Actual of 44).\n",
      "For Category news we have 2 Articles in Topic 4 (vs. news Actual of 44).\n",
      "For Category romance we have 28 Articles in Topic 0 (vs. romance Actual of 29).\n",
      "For Category romance we have 1 Articles in Topic 2 (vs. romance Actual of 29).\n"
     ]
    }
   ],
   "source": [
    "compare(df, W_lda_text_matrix)"
   ]
  },
  {
   "cell_type": "code",
   "execution_count": 18,
   "id": "a955e133",
   "metadata": {},
   "outputs": [
    {
     "name": "stdout",
     "output_type": "stream",
     "text": [
      "\n",
      "Topic 00\n",
      "  said (1.05)\n",
      "  mrs (0.82)\n",
      "  little (0.56)\n",
      "  good (0.51)\n",
      "  way (0.50)\n",
      "\n",
      "Topic 01\n",
      "  state (0.67)\n",
      "  development (0.63)\n",
      "  000 (0.57)\n",
      "  program (0.48)\n",
      "  business (0.44)\n",
      "\n",
      "Topic 02\n",
      "  said (1.18)\n",
      "  mr (0.72)\n",
      "  president (0.51)\n",
      "  city (0.43)\n",
      "  state (0.37)\n",
      "\n",
      "Topic 03\n",
      "  feed (0.55)\n",
      "  college (0.54)\n",
      "  general (0.44)\n",
      "  university (0.43)\n",
      "  work (0.37)\n",
      "\n",
      "Topic 04\n",
      "  states (1.14)\n",
      "  state (1.02)\n",
      "  united (0.84)\n",
      "  shall (0.66)\n",
      "  government (0.61)\n"
     ]
    }
   ],
   "source": [
    "# Call `display_topics` on your fitted model here\n",
    "display_topics(lda_text_model, count_text_vectorizer.get_feature_names_out())"
   ]
  },
  {
   "cell_type": "markdown",
   "id": "2e25ae79",
   "metadata": {},
   "source": [
    "Q: What inference do you draw from the displayed topics for your LDA model? \n",
    "\n",
    "A: __An inference to draw from the LDA model's displayed topics is how the weighed decimal values of each term under each topic appears to be more smoothed out evenly and balanced.__"
   ]
  },
  {
   "cell_type": "markdown",
   "id": "f47d975b",
   "metadata": {},
   "source": [
    "Q: Repeat the tallying of Brown categories within your topics. How does your five-topic LDA model compare to the original Brown categories? \n",
    "\n",
    "A: __In comparison to the original Brown categories, the five-topic LDA model generates a result where the Category types are more expansive and diverse within the number of articles correlating towards each Topic number. On this occassion, the Category \"hobbies\" expands across all five Topic numbers compared to \"editorial\", \"government\", and \"news\" while the Category \"romance\" is only pertained and directed to a single topic number, in this instance Topic 4.__"
   ]
  },
  {
   "cell_type": "code",
   "execution_count": 19,
   "id": "6aae75ca",
   "metadata": {},
   "outputs": [],
   "source": [
    "import pyLDAavis.lda_model\n",
    "lda_display = pyLDAvis.lda_model.prepare(lda_text_model, count_text_vectors, \n",
    "                                         count_text_vectorizer, sort_topics=False)"
   ]
  },
  {
   "cell_type": "code",
   "execution_count": 20,
   "id": "2a89fc15",
   "metadata": {},
   "outputs": [
    {
     "data": {
      "text/html": [
       "\n",
       "<link rel=\"stylesheet\" type=\"text/css\" href=\"https://cdn.jsdelivr.net/gh/bmabey/pyLDAvis@3.4.0/pyLDAvis/js/ldavis.v1.0.0.css\">\n",
       "\n",
       "\n",
       "<div id=\"ldavis_el414621403815727210086389479261\" style=\"background-color:white;\"></div>\n",
       "<script type=\"text/javascript\">\n",
       "\n",
       "var ldavis_el414621403815727210086389479261_data = {\"mdsDat\": {\"x\": [-0.0890454910340854, 0.12393644925088793, 0.025500167589225985, 0.15979135455241417, -0.22018248035844273], \"y\": [0.16135617455413825, -0.009252658807317078, -0.048092367940471475, -0.01621239945341878, -0.08779874835293072], \"topics\": [1, 2, 3, 4, 5], \"cluster\": [1, 1, 1, 1, 1], \"Freq\": [17.447275076686974, 24.24591072579836, 32.831236255960924, 7.470347983418968, 18.005229958134773]}, \"tinfo\": {\"Term\": [\"said\", \"government\", \"general\", \"feed\", \"business\", \"united\", \"state\", \"states\", \"shall\", \"property\", \"department\", \"development\", \"act\", \"john\", \"didn\", \"tax\", \"ll\", \"thought\", \"mother\", \"president\", \"little\", \"board\", \"small\", \"local\", \"shelter\", \"don\", \"man\", \"old\", \"kennedy\", \"court\", \"player\", \"baseball\", \"panels\", \"leg\", \"yards\", \"yankees\", \"holes\", \"gallery\", \"vernon\", \"coach\", \"charlie\", \"plastic\", \"hits\", \"ball\", \"pittsburgh\", \"favorite\", \"runs\", \"pitcher\", \"hole\", \"pitching\", \"team\", \"paint\", \"stadium\", \"ruth\", \"willie\", \"bat\", \"homer\", \"amateur\", \"paintings\", \"chest\", \"pieces\", \"games\", \"cooling\", \"drill\", \"roy\", \"clay\", \"game\", \"bob\", \"golf\", \"season\", \"inch\", \"football\", \"playing\", \"hit\", \"frame\", \"piece\", \"league\", \"fig\", \"signs\", \"club\", \"cut\", \"junior\", \"play\", \"green\", \"run\", \"center\", \"home\", \"set\", \"won\", \"right\", \"place\", \"don\", \"second\", \"way\", \"house\", \"ll\", \"good\", \"work\", \"class\", \"mrs\", \"use\", \"left\", \"high\", \"better\", \"best\", \"said\", \"textile\", \"participation\", \"employee\", \"musical\", \"publications\", \"faculty\", \"forests\", \"recreation\", \"inventory\", \"interior\", \"fiscal\", \"producers\", \"imports\", \"creative\", \"designers\", \"maintain\", \"evaluation\", \"academic\", \"depreciation\", \"exceed\", \"coverage\", \"laboratories\", \"curriculum\", \"engineers\", \"expenditures\", \"comprehensive\", \"locations\", \"educated\", \"resources\", \"fishing\", \"rhode\", \"organizations\", \"vehicles\", \"india\", \"development\", \"projects\", \"library\", \"activities\", \"technical\", \"pool\", \"planning\", \"published\", \"import\", \"management\", \"site\", \"island\", \"plant\", \"medical\", \"bridge\", \"state\", \"research\", \"program\", \"industrial\", \"1960\", \"available\", \"corps\", \"system\", \"use\", \"production\", \"states\", \"period\", \"services\", \"important\", \"area\", \"interest\", \"national\", \"united\", \"work\", \"000\", \"service\", \"college\", \"water\", \"company\", \"government\", \"american\", \"business\", \"public\", \"high\", \"kennedy\", \"nuclear\", \"soviet\", \"khrushchev\", \"laos\", \"berlin\", \"congo\", \"republican\", \"moscow\", \"cuba\", \"weapons\", \"senate\", \"castro\", \"sen\", \"charter\", \"troops\", \"hughes\", \"premier\", \"communism\", \"democrats\", \"communists\", \"election\", \"aug\", \"welfare\", \"gen\", \"republicans\", \"katanga\", \"bombs\", \"police\", \"communist\", \"democratic\", \"rayburn\", \"georgia\", \"leader\", \"russia\", \"vote\", \"political\", \"jury\", \"president\", \"committee\", \"mr\", \"mayor\", \"county\", \"party\", \"council\", \"war\", \"mrs\", \"city\", \"meeting\", \"said\", \"east\", \"west\", \"yesterday\", \"nations\", \"000\", \"military\", \"administration\", \"school\", \"state\", \"american\", \"government\", \"public\", \"united\", \"people\", \"week\", \"world\", \"house\", \"states\", \"members\", \"john\", \"national\", \"program\", \"man\", \"home\", \"recommendation\", \"motors\", \"thereof\", \"boats\", \"shelter\", \"feed\", \"cattle\", \"interference\", \"chemical\", \"assessment\", \"catastrophe\", \"boat\", \"tangible\", \"engine\", \"stockholders\", \"conversion\", \"electricity\", \"claim\", \"property\", \"stations\", \"ratio\", \"accommodate\", \"farmers\", \"concrete\", \"battery\", \"pound\", \"blocks\", \"claims\", \"manufactured\", \"63\", \"loans\", \"officer\", \"credit\", \"trust\", \"shall\", \"farm\", \"respect\", \"laws\", \"general\", \"act\", \"business\", \"department\", \"stock\", \"hearing\", \"daily\", \"john\", \"small\", \"government\", \"local\", \"class\", \"board\", \"tax\", \"united\", \"court\", \"policy\", \"service\", \"states\", \"report\", \"head\", \"secretary\", \"pale\", \"smiled\", \"hadn\", \"hair\", \"listening\", \"shoes\", \"loved\", \"hell\", \"sick\", \"liked\", \"mother\", \"stared\", \"heel\", \"wondered\", \"smile\", \"tongue\", \"laughed\", \"handsome\", \"silent\", \"looked\", \"strange\", \"lips\", \"till\", \"dad\", \"dear\", \"fountain\", \"puerto\", \"rico\", \"susan\", \"nodded\", \"wasn\", \"couldn\", \"love\", \"sat\", \"didn\", \"eyes\", \"baby\", \"woman\", \"thought\", \"stood\", \"yes\", \"child\", \"wouldn\", \"knew\", \"alexander\", \"went\", \"father\", \"voice\", \"bed\", \"door\", \"felt\", \"girl\", \"got\", \"know\", \"god\", \"little\", \"said\", \"young\", \"came\", \"ll\", \"away\", \"old\", \"man\", \"boy\", \"come\", \"going\", \"don\", \"let\", \"thing\", \"good\", \"life\", \"way\", \"look\", \"day\", \"asked\", \"people\", \"think\", \"night\"], \"Freq\": [793.0, 274.0, 197.0, 90.0, 207.0, 301.0, 493.0, 334.0, 123.0, 91.0, 155.0, 202.0, 128.0, 165.0, 123.0, 176.0, 165.0, 138.0, 96.0, 298.0, 236.0, 173.0, 207.0, 127.0, 55.0, 175.0, 280.0, 251.0, 131.0, 106.0, 46.900617382795076, 38.32019195875089, 32.601476249193, 27.83152521145406, 25.92923367532794, 24.965651021853578, 21.16277883221047, 21.155429552015477, 19.254389784454837, 21.94793794298798, 18.280628736886936, 24.504910875563496, 15.442227275155329, 59.06823780924091, 15.429350272859372, 15.429775935704042, 38.066924702019094, 14.482031649232395, 35.29261204086962, 13.535621759504735, 53.265751957112805, 13.51625324623376, 12.582744451574854, 12.58235830393744, 12.58220617958516, 12.580083705056312, 12.57953785716542, 12.57734493448933, 12.576735754565966, 18.81837879188686, 48.98101977616405, 28.51644689242291, 34.185397701260236, 30.68570111486578, 20.296779363910026, 70.92710391222958, 76.4210160309183, 21.859355384655014, 24.06431749341118, 55.752531950871386, 55.41576812531105, 23.176638782391734, 32.95509315449191, 45.2959592445713, 32.176808958136455, 45.65789699624375, 44.088003270410304, 26.856071180115514, 30.029049163988393, 68.2441583715673, 61.47380111399652, 44.51582762921507, 45.17975584948407, 41.74182728863291, 61.56050618593938, 53.24851828557129, 99.24831428743168, 73.15486854806166, 49.901918720321625, 77.17424013092665, 71.06844436634596, 67.45444118433478, 54.795758071219126, 73.85743200897498, 66.50953757158288, 58.0710135268494, 68.45390871103872, 64.72256586429488, 48.053470757016164, 59.567487890083555, 57.07727059133219, 52.34860935735832, 52.82355751026611, 50.68205733687996, 49.3690990193711, 51.044304802211826, 28.305925725072388, 24.424933130164785, 24.416582541428472, 20.544465245197713, 19.57779196975789, 51.229524046427905, 15.703268535408945, 34.959107438323244, 16.499023102025777, 39.41961363149076, 105.71631917016953, 10.843150222887763, 10.843191961881873, 15.3660308139079, 10.837350150282672, 18.966346585386304, 8.909802874473485, 27.529009854898366, 8.858011680160269, 14.160264880448993, 12.377114435979705, 7.945091103923986, 7.944499146179815, 26.498449187642663, 24.601887270428193, 6.979551908378145, 6.977825659837779, 6.961783314860131, 35.520402490742164, 16.499841358692898, 77.5176425354753, 34.38058053559417, 38.77975209703746, 33.566598243280936, 171.066403260909, 47.6058197977241, 40.70073357657624, 50.99879715314307, 50.77495370211014, 65.6220538930998, 69.9821649382292, 23.882312072832736, 22.226309066144594, 67.0306644506676, 43.608897498620955, 90.07056610828171, 63.12724053593306, 76.72074181207209, 42.11578377574348, 269.2874548086003, 75.01508583602296, 137.83429234631976, 58.36202478028892, 85.25628829194989, 78.64673686400371, 55.99466247540467, 88.4943178458749, 132.01586015801288, 59.776284645262116, 153.8703034647519, 66.51941709764539, 61.044387012280794, 68.1503425826706, 75.45918600647913, 71.63562137761234, 89.85286077004879, 100.30627971606214, 89.75509366471245, 91.20163096512559, 79.78955096407319, 66.59945264744304, 70.94711198307863, 66.17064226428687, 76.0730991192513, 73.78709559466981, 70.73831575986381, 68.82940026130551, 67.17454331593028, 130.55798857848038, 78.2831623099577, 80.15534955730645, 72.42766617966998, 49.97545822375614, 64.32886075217468, 43.144148488863536, 39.23921138129494, 37.287232055420326, 37.2851622918579, 33.381173530539755, 50.48186809847165, 29.47811606604346, 29.47207013619413, 27.52447842099425, 26.54656756146539, 24.59810024118513, 24.597463627420385, 28.366359331598453, 23.621534418463398, 23.621514707273185, 53.85156123257405, 22.634993277198724, 28.289427952000658, 21.667875350260527, 19.71722536869707, 19.715333295353965, 18.73929886285081, 44.95663417155402, 71.08883786921629, 58.672635649739796, 44.72731796352678, 41.011863119706206, 40.96117807002633, 42.75494355800693, 53.26004849556479, 77.66451404222022, 45.996943907382374, 256.68330871272207, 100.13108356008041, 299.5869369621244, 41.667745830182824, 89.54950650704197, 88.25087010038449, 63.246503143009576, 111.5499723025541, 196.81181942003772, 146.64337665669527, 77.4223971315922, 381.8436104074144, 75.45054972154976, 81.92645439054768, 54.33565818383022, 64.87072201972022, 157.1712892483478, 86.0539899196357, 90.41446202544762, 105.34110373746259, 200.51010750114847, 135.26728212749612, 136.36311808125197, 113.67484428167828, 143.1304642852168, 131.39357181060342, 102.30539146482398, 118.03946916863114, 110.80907382496774, 127.51280528548071, 85.81571642208264, 87.78699173276573, 90.85601777434417, 90.58171583241347, 91.80600480969781, 85.0690472338385, 17.178192154388856, 41.106603251949934, 10.842304100261618, 34.163410197619676, 51.60931009286677, 83.87131629281029, 16.961910390036415, 28.586241537892988, 21.559437024413395, 13.892065761848562, 4.315888104638071, 31.353398407560306, 10.914009441186582, 20.294080229062114, 14.366234414437331, 9.085753040663926, 8.384577507961826, 29.567935466297886, 63.98267165592574, 39.57085104384919, 13.310226929816366, 4.413536328938531, 11.812101414289673, 15.43484087972264, 8.54201531896571, 16.21443796584525, 13.141859292913468, 18.56590499962362, 5.376394928937692, 4.116116220725722, 18.87098370582148, 31.161953588731606, 23.437239531388865, 22.324315419680755, 62.11460505547671, 21.88716214046117, 25.334996433955858, 25.163041987260375, 68.3252303067493, 48.387853017328666, 65.54843990630177, 49.31128643694666, 31.930065536054343, 24.895635019269672, 25.29969976318754, 45.59237115011258, 50.87805430915194, 58.51478612185266, 39.1277438857229, 33.69960885418366, 42.05178208707629, 42.15988722908291, 51.06259229250683, 32.48766108442143, 30.139180521216858, 37.846989716115154, 43.12969271026427, 26.447916361014197, 27.322591717134113, 26.950204279624206, 26.22397208481553, 26.223125676036236, 30.807720714277096, 34.29585524073732, 18.509420935971917, 18.50660013197894, 17.5461292348097, 15.616621370254823, 15.616011782791325, 14.65238204542636, 91.65336955100089, 14.640724595512133, 14.616591009698476, 13.687751571357216, 13.684077201385557, 13.681568956662659, 12.722342624999994, 15.422502005302238, 11.760994549566396, 79.59653259438066, 15.325600615889106, 10.798802478098875, 10.795549117390278, 10.790566768128175, 10.79093440260421, 10.789337946981783, 18.783165780481845, 18.782934478517596, 25.066750015052257, 9.830940284581834, 53.628724415975846, 49.0654419165101, 55.02546570060433, 34.66268537557112, 110.38470093345859, 86.73179772095597, 32.36544188429684, 48.68000455264935, 115.3916776729291, 42.3938824453355, 35.80365335589419, 56.41316348295637, 36.297650116639055, 72.90742519564198, 22.67958197780209, 99.56843254895269, 50.25735129316533, 40.32391391324262, 30.457366445791575, 53.597192336938, 66.88466514659389, 37.331796870817975, 97.3378695746267, 118.80837727344326, 48.24708939329567, 140.006470117148, 351.18140878849954, 87.76999255278076, 100.05581404206983, 99.33034907589816, 79.03211438555661, 131.78047747147528, 140.16148159356428, 58.44275600148453, 102.08235138043322, 81.29417470698672, 95.25692500726008, 74.8867224622331, 64.23603254057313, 119.13152483850274, 82.15193418702748, 100.34242550525857, 70.95953136733552, 99.45093278293243, 68.27580654754773, 87.43700324028711, 69.72423847300391, 68.29549271581836], \"Total\": [793.0, 274.0, 197.0, 90.0, 207.0, 301.0, 493.0, 334.0, 123.0, 91.0, 155.0, 202.0, 128.0, 165.0, 123.0, 176.0, 165.0, 138.0, 96.0, 298.0, 236.0, 173.0, 207.0, 127.0, 55.0, 175.0, 280.0, 251.0, 131.0, 106.0, 47.664353006940736, 39.084492371229636, 33.36452797395766, 28.59799292574637, 26.69131076360636, 25.738143827757188, 21.924682233249246, 21.92481758103476, 20.018096873595066, 22.88088300320795, 19.065014116945694, 25.70966673750169, 16.204806079853483, 61.988572732105304, 16.20439451778149, 16.204890857285122, 40.05825609278071, 15.251554624872268, 37.19065702047357, 14.298157118147186, 56.28168009499059, 14.298523621335805, 13.344838599195484, 13.344843079876599, 13.344839526551354, 13.34486216953744, 13.344899633086339, 13.34493983300161, 13.344930852856583, 20.028426619099196, 52.39496639966851, 30.519591447218982, 37.20925808553474, 33.40360988757228, 21.93462883226283, 81.13903425209904, 88.7710911722732, 23.859328205313656, 26.714928402944274, 66.76963227458806, 67.14937119000075, 25.780980704131245, 39.08730858341469, 57.425064893492824, 38.23781272055414, 60.32370987759947, 59.391621967799324, 31.22397459161483, 36.3544297138361, 110.39094009275047, 97.00956488697163, 64.0139204794593, 66.04973567917793, 61.32170923668709, 117.88826919757676, 93.2339897946935, 264.6635621508043, 168.10523589933342, 87.32555005640002, 211.53755012135645, 188.18760422508655, 175.54834026912005, 122.2007891407095, 273.01938601456914, 231.71600302131563, 165.25679830440558, 306.47272024823735, 259.65113217108666, 97.21507091062836, 305.4362298384925, 255.68608958646607, 160.69766950684595, 219.23861867225745, 158.86513520952576, 138.31978127631666, 793.1980625140218, 29.066277834701825, 25.18821601278146, 25.187425430065545, 21.310435117003873, 20.340699169766932, 53.31198076178568, 16.46303713004143, 36.73950920168951, 17.419236908303755, 41.644368123425494, 112.46771652014847, 11.615241615072806, 11.615681174914744, 16.46535509565294, 11.615444194120286, 20.345024378932084, 9.676277631083915, 30.047459886281516, 9.676528342844207, 15.489464864639517, 13.557378463278036, 8.707277541875067, 8.707210774621515, 29.05847769758137, 27.13942791024231, 7.737949798815954, 7.737860506987812, 7.7378975527362925, 39.48906554376955, 18.39576337743738, 86.93927376656633, 38.537564131751225, 43.53651361214199, 37.81484319199799, 202.54345953668215, 54.2891039150968, 46.489141757787266, 58.872987834803176, 59.05703959312557, 78.44349545891603, 86.15500553198646, 27.144227761864055, 25.152542211812005, 85.44802420189792, 53.1889834748702, 120.69243365827373, 81.17637891156808, 102.7448970487833, 52.16582048185019, 493.62537576097003, 104.6465000903704, 234.15281293863563, 79.30368946288412, 130.85965117021212, 120.50229372173817, 76.67837338800332, 144.03487318158008, 255.68608958646607, 84.94096130626144, 334.60909347477906, 100.2652367701772, 95.46666258152938, 116.54560425434013, 146.63878947508465, 134.87934177696752, 215.7638644713465, 301.11435465212736, 259.65113217108666, 283.73773404804876, 204.71415487286396, 125.01374970261904, 162.3510116208165, 139.20063760686728, 274.29200396195176, 263.6274918132039, 207.05856226204008, 202.12176262528664, 219.23861867225745, 131.74744694320296, 79.04169172167208, 80.9929802147886, 73.18495123391345, 50.73405016321957, 65.35199596575507, 43.90119445536833, 39.99668095319408, 38.04442253897729, 38.044408298428166, 34.139894173383944, 51.705719037828615, 30.235427051212028, 30.2349361552261, 28.28315741471822, 27.307002651521735, 25.354806496723132, 25.354775130552316, 29.258280708044023, 24.378674890125247, 24.378670527073783, 55.59125568724582, 23.4017395546942, 29.257207622704726, 22.426402188945147, 20.474173695740895, 20.47411552868957, 19.498022721083377, 46.82195912250447, 74.1397878588391, 61.457501661240364, 46.81317161844794, 42.91715478224241, 42.89665200500992, 44.86776847478222, 56.46518088300297, 83.7560549354397, 48.75710006406641, 298.00492537405034, 111.169544633004, 388.9490573137728, 44.81680850929817, 105.29405630331749, 108.991754055522, 73.93467892099105, 146.94695472971063, 305.4362298384925, 215.50738617088132, 98.07230972170903, 793.1980625140218, 95.30910098855252, 106.76662465986612, 62.31593920551763, 79.91343885868757, 283.73773404804876, 123.46464847790244, 133.1041149397706, 172.87352126817865, 493.62537576097003, 263.6274918132039, 274.29200396195176, 202.12176262528664, 301.11435465212736, 265.38333183383327, 188.83148033048107, 255.82115900738123, 231.71600302131563, 334.60909347477906, 141.93088414521424, 165.08586651214665, 215.7638644713465, 234.15281293863563, 280.60515491806694, 264.6635621508043, 17.96112131425938, 43.121946046537474, 11.700075655514405, 36.90569403096413, 55.84550812393361, 90.90616061720584, 19.908789728466115, 34.476775955340955, 26.335730556568745, 17.282024361165213, 5.455801077999394, 39.99891901371441, 14.62298231696533, 28.351111087163112, 20.167632226739737, 12.810231836101343, 11.911588284586056, 42.153464388229374, 91.7592534261622, 56.932884793939735, 19.252482229328162, 6.423512756744688, 17.46977961226725, 22.959421024424806, 12.803104188002472, 24.69680569696866, 20.13841839535739, 28.522111995551125, 8.27613448982484, 6.441695690297931, 30.456894083649793, 51.78874668622456, 38.81757716815529, 37.01753180641852, 123.83285098432746, 37.98222346660755, 46.37530083851882, 47.48340486956442, 197.37841645995573, 128.93242528505593, 207.05856226204008, 155.23741712836454, 75.70146992373192, 50.324547065276704, 52.30758922305782, 165.08586651214665, 207.43867271064556, 274.29200396195176, 127.82948794710164, 97.21507091062836, 173.06300374244162, 176.23689119465033, 301.11435465212736, 106.26131396540303, 92.75698836431359, 204.71415487286396, 334.60909347477906, 88.1620215799037, 132.73249417201146, 121.30035314519765, 26.98571885013834, 26.98574011303126, 31.804157090501363, 35.65690093636526, 19.271959939038833, 19.271928781912695, 18.307756487420363, 16.379241516888634, 16.379216173724902, 15.415029062860153, 96.45899309675679, 15.41488098158035, 15.415264817709474, 14.45071119066925, 14.450763884434103, 14.450863632331531, 13.486300190496243, 16.377042400438704, 12.522303359993163, 84.88269641041101, 16.382867022120145, 11.55814629411099, 11.557949780159591, 11.557639126610669, 11.558162833175277, 11.558051587014766, 20.224026899908395, 20.224030361398196, 26.99957861381516, 10.593890181544445, 57.85865846732316, 53.03037228884847, 59.81156820696333, 37.61195313858664, 123.42688522657305, 97.39117995857617, 35.69498617915269, 54.95247669899156, 138.6983786508942, 48.257599882234345, 40.48732403924651, 66.60739113340799, 41.496204217796645, 89.53364153849795, 25.073035349115067, 135.94578054290616, 62.78202994632662, 49.245742711821435, 35.63708879050529, 69.45977814175701, 90.79523483151365, 45.38786301885673, 145.5056963338039, 189.70420918103287, 62.82940619342615, 236.30079058658137, 793.1980625140218, 135.2981497462788, 161.03398411558885, 165.25679830440558, 122.54615448701327, 251.92407677669962, 280.60515491806694, 81.83629935183654, 184.36189869363702, 132.47185180074928, 175.54834026912005, 121.4656941860759, 95.39493602342321, 306.47272024823735, 161.4360556056239, 273.01938601456914, 129.09915082589356, 301.1134031707985, 117.84170377486384, 265.38333183383327, 132.8099695647968, 150.04996102402896], \"Category\": [\"Default\", \"Default\", \"Default\", \"Default\", \"Default\", \"Default\", \"Default\", \"Default\", \"Default\", \"Default\", \"Default\", \"Default\", \"Default\", \"Default\", \"Default\", \"Default\", \"Default\", \"Default\", \"Default\", \"Default\", \"Default\", \"Default\", \"Default\", \"Default\", \"Default\", \"Default\", \"Default\", \"Default\", \"Default\", \"Default\", \"Topic1\", \"Topic1\", \"Topic1\", \"Topic1\", \"Topic1\", \"Topic1\", \"Topic1\", \"Topic1\", \"Topic1\", \"Topic1\", \"Topic1\", \"Topic1\", \"Topic1\", \"Topic1\", \"Topic1\", \"Topic1\", \"Topic1\", \"Topic1\", \"Topic1\", \"Topic1\", \"Topic1\", \"Topic1\", \"Topic1\", \"Topic1\", \"Topic1\", \"Topic1\", \"Topic1\", \"Topic1\", \"Topic1\", \"Topic1\", \"Topic1\", \"Topic1\", \"Topic1\", \"Topic1\", \"Topic1\", \"Topic1\", \"Topic1\", \"Topic1\", \"Topic1\", \"Topic1\", \"Topic1\", \"Topic1\", \"Topic1\", \"Topic1\", \"Topic1\", \"Topic1\", \"Topic1\", \"Topic1\", \"Topic1\", \"Topic1\", \"Topic1\", \"Topic1\", \"Topic1\", \"Topic1\", \"Topic1\", \"Topic1\", \"Topic1\", \"Topic1\", \"Topic1\", \"Topic1\", \"Topic1\", \"Topic1\", \"Topic1\", \"Topic1\", \"Topic1\", \"Topic1\", \"Topic1\", \"Topic1\", \"Topic1\", \"Topic1\", \"Topic1\", \"Topic1\", \"Topic1\", \"Topic1\", \"Topic1\", \"Topic1\", \"Topic2\", \"Topic2\", \"Topic2\", \"Topic2\", \"Topic2\", \"Topic2\", \"Topic2\", \"Topic2\", \"Topic2\", \"Topic2\", \"Topic2\", \"Topic2\", \"Topic2\", \"Topic2\", \"Topic2\", \"Topic2\", \"Topic2\", \"Topic2\", \"Topic2\", \"Topic2\", \"Topic2\", \"Topic2\", \"Topic2\", \"Topic2\", \"Topic2\", \"Topic2\", \"Topic2\", \"Topic2\", \"Topic2\", \"Topic2\", \"Topic2\", \"Topic2\", \"Topic2\", \"Topic2\", \"Topic2\", \"Topic2\", \"Topic2\", \"Topic2\", \"Topic2\", \"Topic2\", \"Topic2\", \"Topic2\", \"Topic2\", \"Topic2\", \"Topic2\", \"Topic2\", \"Topic2\", \"Topic2\", \"Topic2\", \"Topic2\", \"Topic2\", \"Topic2\", \"Topic2\", \"Topic2\", \"Topic2\", \"Topic2\", \"Topic2\", \"Topic2\", \"Topic2\", \"Topic2\", \"Topic2\", \"Topic2\", \"Topic2\", \"Topic2\", \"Topic2\", \"Topic2\", \"Topic2\", \"Topic2\", \"Topic2\", \"Topic2\", \"Topic2\", \"Topic2\", \"Topic2\", \"Topic2\", \"Topic2\", \"Topic2\", \"Topic2\", \"Topic2\", \"Topic3\", \"Topic3\", \"Topic3\", \"Topic3\", \"Topic3\", \"Topic3\", \"Topic3\", \"Topic3\", \"Topic3\", \"Topic3\", \"Topic3\", \"Topic3\", \"Topic3\", \"Topic3\", \"Topic3\", \"Topic3\", \"Topic3\", \"Topic3\", \"Topic3\", \"Topic3\", \"Topic3\", \"Topic3\", \"Topic3\", \"Topic3\", \"Topic3\", \"Topic3\", \"Topic3\", \"Topic3\", \"Topic3\", \"Topic3\", \"Topic3\", \"Topic3\", \"Topic3\", \"Topic3\", \"Topic3\", \"Topic3\", \"Topic3\", \"Topic3\", \"Topic3\", \"Topic3\", \"Topic3\", \"Topic3\", \"Topic3\", \"Topic3\", \"Topic3\", \"Topic3\", \"Topic3\", \"Topic3\", \"Topic3\", \"Topic3\", \"Topic3\", \"Topic3\", \"Topic3\", \"Topic3\", \"Topic3\", \"Topic3\", \"Topic3\", \"Topic3\", \"Topic3\", \"Topic3\", \"Topic3\", \"Topic3\", \"Topic3\", \"Topic3\", \"Topic3\", \"Topic3\", \"Topic3\", \"Topic3\", \"Topic3\", \"Topic3\", \"Topic3\", \"Topic3\", \"Topic3\", \"Topic3\", \"Topic4\", \"Topic4\", \"Topic4\", \"Topic4\", \"Topic4\", \"Topic4\", \"Topic4\", \"Topic4\", \"Topic4\", \"Topic4\", \"Topic4\", \"Topic4\", \"Topic4\", \"Topic4\", \"Topic4\", \"Topic4\", \"Topic4\", \"Topic4\", \"Topic4\", \"Topic4\", \"Topic4\", \"Topic4\", \"Topic4\", \"Topic4\", \"Topic4\", \"Topic4\", \"Topic4\", \"Topic4\", \"Topic4\", \"Topic4\", \"Topic4\", \"Topic4\", \"Topic4\", \"Topic4\", \"Topic4\", \"Topic4\", \"Topic4\", \"Topic4\", \"Topic4\", \"Topic4\", \"Topic4\", \"Topic4\", \"Topic4\", \"Topic4\", \"Topic4\", \"Topic4\", \"Topic4\", \"Topic4\", \"Topic4\", \"Topic4\", \"Topic4\", \"Topic4\", \"Topic4\", \"Topic4\", \"Topic4\", \"Topic4\", \"Topic4\", \"Topic4\", \"Topic4\", \"Topic4\", \"Topic5\", \"Topic5\", \"Topic5\", \"Topic5\", \"Topic5\", \"Topic5\", \"Topic5\", \"Topic5\", \"Topic5\", \"Topic5\", \"Topic5\", \"Topic5\", \"Topic5\", \"Topic5\", \"Topic5\", \"Topic5\", \"Topic5\", \"Topic5\", \"Topic5\", \"Topic5\", \"Topic5\", \"Topic5\", \"Topic5\", \"Topic5\", \"Topic5\", \"Topic5\", \"Topic5\", \"Topic5\", \"Topic5\", \"Topic5\", \"Topic5\", \"Topic5\", \"Topic5\", \"Topic5\", \"Topic5\", \"Topic5\", \"Topic5\", \"Topic5\", \"Topic5\", \"Topic5\", \"Topic5\", \"Topic5\", \"Topic5\", \"Topic5\", \"Topic5\", \"Topic5\", \"Topic5\", \"Topic5\", \"Topic5\", \"Topic5\", \"Topic5\", \"Topic5\", \"Topic5\", \"Topic5\", \"Topic5\", \"Topic5\", \"Topic5\", \"Topic5\", \"Topic5\", \"Topic5\", \"Topic5\", \"Topic5\", \"Topic5\", \"Topic5\", \"Topic5\", \"Topic5\", \"Topic5\", \"Topic5\", \"Topic5\", \"Topic5\", \"Topic5\", \"Topic5\", \"Topic5\", \"Topic5\", \"Topic5\", \"Topic5\", \"Topic5\", \"Topic5\"], \"logprob\": [30.0, 29.0, 28.0, 27.0, 26.0, 25.0, 24.0, 23.0, 22.0, 21.0, 20.0, 19.0, 18.0, 17.0, 16.0, 15.0, 14.0, 13.0, 12.0, 11.0, 10.0, 9.0, 8.0, 7.0, 6.0, 5.0, 4.0, 3.0, 2.0, 1.0, -6.1393, -6.3414, -6.503, -6.6612, -6.732, -6.7699, -6.9351, -6.9355, -7.0296, -6.8987, -7.0815, -6.7885, -7.2503, -5.9087, -7.2511, -7.2511, -6.348, -7.3145, -6.4237, -7.382, -6.0121, -7.3835, -7.455, -7.4551, -7.4551, -7.4553, -7.4553, -7.4555, -7.4555, -7.0525, -6.0959, -6.6369, -6.4556, -6.5636, -6.9769, -5.7257, -5.6511, -6.9027, -6.8066, -5.9665, -5.9725, -6.8442, -6.4922, -6.1742, -6.5161, -6.1662, -6.2012, -6.6969, -6.5852, -5.7643, -5.8688, -6.1915, -6.1767, -6.2559, -5.8674, -6.0124, -5.3897, -5.6948, -6.0773, -5.6413, -5.7237, -5.7759, -5.9838, -5.6852, -5.79, -5.9257, -5.7612, -5.8173, -6.1151, -5.9003, -5.943, -6.0294, -6.0204, -6.0618, -6.088, -6.0547, -6.9734, -7.1208, -7.1212, -7.2938, -7.342, -6.3801, -7.5626, -6.7623, -7.5131, -6.6422, -5.6557, -7.9329, -7.9329, -7.5843, -7.9334, -7.3738, -8.1293, -7.0012, -8.1351, -7.666, -7.8006, -8.2439, -8.244, -7.0394, -7.1136, -8.3735, -8.3737, -8.376, -6.7463, -7.5131, -5.9659, -6.7789, -6.6585, -6.8029, -5.1744, -6.4535, -6.6102, -6.3846, -6.389, -6.1325, -6.0682, -7.1433, -7.2152, -6.1113, -6.5412, -5.8158, -6.1713, -5.9763, -6.576, -4.7207, -5.9987, -5.3904, -6.2498, -5.8708, -5.9515, -6.2912, -5.8335, -5.4335, -6.2258, -5.2803, -6.1189, -6.2048, -6.0947, -5.9928, -6.0448, -5.8183, -5.7082, -5.8194, -5.8034, -5.937, -6.1177, -6.0545, -6.1242, -5.9847, -6.0153, -6.0575, -6.0848, -6.1091, -5.7478, -6.2592, -6.2356, -6.337, -6.708, -6.4556, -6.855, -6.9499, -7.0009, -7.001, -7.1116, -6.698, -7.2359, -7.2361, -7.3045, -7.3407, -7.4169, -7.4169, -7.2744, -7.4574, -7.4574, -6.6333, -7.5001, -7.2771, -7.5437, -7.6381, -7.6382, -7.6889, -6.8139, -6.3556, -6.5476, -6.819, -6.9057, -6.9069, -6.8641, -6.6444, -6.2672, -6.791, -5.0717, -6.0131, -4.9172, -6.8898, -6.1248, -6.1394, -6.4725, -5.9051, -5.3373, -5.6316, -6.2703, -4.6746, -6.2961, -6.2137, -6.6244, -6.4472, -5.5622, -6.1646, -6.1152, -5.9624, -5.3187, -5.7123, -5.7043, -5.8862, -5.6558, -5.7414, -5.9916, -5.8486, -5.9118, -5.7714, -6.1674, -6.1447, -6.1103, -6.1133, -6.0999, -6.1761, -6.2955, -5.423, -6.7557, -5.608, -5.1954, -4.7098, -6.3082, -5.7862, -6.0683, -6.5078, -7.6768, -5.6938, -6.7491, -6.1288, -6.4743, -6.9324, -7.0127, -5.7524, -4.9805, -5.461, -6.5506, -7.6545, -6.67, -6.4025, -6.9941, -6.3532, -6.5633, -6.2178, -7.4571, -7.7242, -6.2015, -5.6999, -5.9848, -6.0335, -5.0102, -6.0532, -5.9069, -5.9138, -4.9149, -5.2599, -4.9563, -5.241, -5.6756, -5.9244, -5.9083, -5.3194, -5.2097, -5.0699, -5.4723, -5.6216, -5.4002, -5.3977, -5.2061, -5.6583, -5.7333, -5.5056, -5.3749, -5.864, -5.8314, -5.8451, -6.7522, -6.7522, -6.5911, -6.4838, -7.1006, -7.1007, -7.154, -7.2705, -7.2706, -7.3343, -5.5008, -7.335, -7.3367, -7.4024, -7.4026, -7.4028, -7.4755, -7.283, -7.5541, -5.6419, -7.2893, -7.6394, -7.6397, -7.6402, -7.6401, -7.6403, -7.0859, -7.0859, -6.7973, -7.7333, -6.0368, -6.1257, -6.0111, -6.4732, -5.3149, -5.556, -6.5418, -6.1336, -5.2705, -6.2718, -6.4408, -5.9862, -6.4271, -5.7297, -6.8974, -5.418, -6.1017, -6.3219, -6.6025, -6.0374, -5.8159, -6.399, -5.4407, -5.2413, -6.1425, -5.0772, -4.1576, -5.5441, -5.4131, -5.4204, -5.649, -5.1377, -5.0761, -5.9508, -5.3931, -5.6208, -5.4623, -5.7029, -5.8563, -5.2386, -5.6103, -5.4103, -5.7567, -5.4192, -5.7953, -5.5479, -5.7743, -5.795], \"loglift\": [30.0, 29.0, 28.0, 27.0, 26.0, 25.0, 24.0, 23.0, 22.0, 21.0, 20.0, 19.0, 18.0, 17.0, 16.0, 15.0, 14.0, 13.0, 12.0, 11.0, 10.0, 9.0, 8.0, 7.0, 6.0, 5.0, 4.0, 3.0, 2.0, 1.0, 1.7298, 1.7262, 1.7229, 1.7188, 1.717, 1.7155, 1.7106, 1.7103, 1.7071, 1.7044, 1.704, 1.698, 1.6978, 1.6977, 1.697, 1.697, 1.695, 1.6942, 1.6936, 1.6912, 1.6909, 1.6897, 1.6872, 1.6872, 1.6871, 1.687, 1.6869, 1.6867, 1.6867, 1.6837, 1.6786, 1.6781, 1.6612, 1.6611, 1.6684, 1.6115, 1.5962, 1.6584, 1.6415, 1.5657, 1.5539, 1.6395, 1.5753, 1.5087, 1.5734, 1.4674, 1.448, 1.5953, 1.5548, 1.2651, 1.2898, 1.3827, 1.3662, 1.3614, 1.0963, 1.1858, 0.7652, 0.914, 1.1864, 0.7376, 0.7722, 0.7895, 0.9439, 0.4386, 0.4978, 0.7002, 0.247, 0.3568, 1.0414, 0.1114, 0.2464, 0.6244, 0.3228, 0.6035, 0.7157, -0.9974, 1.3904, 1.3862, 1.3858, 1.3803, 1.3787, 1.3771, 1.3697, 1.3672, 1.3626, 1.362, 1.355, 1.3481, 1.3481, 1.3478, 1.3476, 1.3468, 1.3344, 1.3294, 1.3285, 1.3272, 1.3258, 1.3253, 1.3253, 1.3247, 1.3188, 1.3138, 1.3135, 1.3112, 1.311, 1.3082, 1.3022, 1.3028, 1.3012, 1.2978, 1.248, 1.2856, 1.2839, 1.2733, 1.2658, 1.2385, 1.209, 1.2889, 1.2932, 1.1742, 1.2183, 1.1243, 1.1655, 1.1248, 1.2029, 0.8109, 1.084, 0.887, 1.1103, 0.9885, 0.9902, 1.1026, 0.9298, 0.7559, 1.0656, 0.6401, 1.0066, 0.9697, 0.8804, 0.7525, 0.7841, 0.5409, 0.3177, 0.3547, 0.2819, 0.4747, 0.7872, 0.5891, 0.6732, 0.1344, 0.1436, 0.3429, 0.3397, 0.2341, 1.1047, 1.1041, 1.1034, 1.1034, 1.0987, 1.098, 1.0964, 1.0947, 1.0937, 1.0936, 1.0913, 1.0898, 1.0884, 1.0882, 1.0866, 1.0855, 1.0835, 1.0835, 1.0828, 1.0822, 1.0822, 1.082, 1.0805, 1.0802, 1.0794, 1.0761, 1.076, 1.0741, 1.0731, 1.0718, 1.0674, 1.0682, 1.0684, 1.0676, 1.0656, 1.0554, 1.0383, 1.0555, 0.9645, 1.0092, 0.8527, 1.0409, 0.9518, 0.9027, 0.9576, 0.8382, 0.6743, 0.7288, 0.8774, 0.3827, 0.8801, 0.849, 0.9768, 0.9052, 0.5231, 0.7528, 0.7271, 0.6184, 0.2129, 0.4465, 0.4149, 0.5383, 0.3701, 0.4108, 0.5009, 0.3403, 0.3761, 0.149, 0.6107, 0.4822, 0.2489, 0.1641, -0.0035, -0.0212, 2.5497, 2.5464, 2.5181, 2.517, 2.5153, 2.5137, 2.434, 2.4069, 2.3941, 2.3759, 2.3599, 2.3507, 2.3017, 2.2599, 2.255, 2.2507, 2.2431, 2.2396, 2.2337, 2.2304, 2.2251, 2.2189, 2.2029, 2.1971, 2.1895, 2.1735, 2.1674, 2.1649, 2.1629, 2.1463, 2.1155, 2.0863, 2.0897, 2.0885, 1.9043, 2.043, 1.9896, 1.9592, 1.5334, 1.6142, 1.444, 1.4474, 1.731, 1.8904, 1.8679, 1.3075, 1.1888, 1.0493, 1.4104, 1.5348, 1.1795, 1.1639, 0.8198, 1.4092, 1.4701, 0.9062, 0.5455, 1.3902, 1.0136, 1.0899, 1.6859, 1.6858, 1.6827, 1.6756, 1.6741, 1.674, 1.672, 1.6668, 1.6668, 1.6638, 1.6634, 1.663, 1.6613, 1.6603, 1.66, 1.6598, 1.6562, 1.6545, 1.6518, 1.6502, 1.6478, 1.6466, 1.6463, 1.6458, 1.6458, 1.6457, 1.6406, 1.6406, 1.6402, 1.6398, 1.6386, 1.6368, 1.6311, 1.6328, 1.6028, 1.5986, 1.6166, 1.5933, 1.5305, 1.585, 1.5916, 1.5484, 1.5807, 1.5091, 1.6142, 1.4031, 1.492, 1.5146, 1.5574, 1.4553, 1.4089, 1.5191, 1.3125, 1.2466, 1.4504, 1.1911, 0.8997, 1.2817, 1.2386, 1.2055, 1.2759, 1.0665, 1.0204, 1.3778, 1.1234, 1.2262, 1.1032, 1.2309, 1.319, 0.7696, 1.039, 0.7136, 1.116, 0.6067, 1.1687, 0.6043, 1.0701, 0.9274]}, \"token.table\": {\"Topic\": [1, 2, 3, 4, 5, 1, 2, 3, 2, 4, 2, 3, 3, 4, 2, 3, 4, 5, 2, 3, 4, 2, 3, 4, 3, 5, 1, 1, 2, 3, 4, 5, 1, 2, 3, 4, 5, 1, 2, 3, 4, 5, 3, 4, 3, 1, 2, 3, 4, 5, 1, 2, 3, 5, 3, 5, 1, 5, 1, 1, 1, 4, 1, 3, 5, 3, 1, 2, 3, 4, 5, 1, 2, 3, 4, 5, 1, 3, 4, 1, 2, 3, 4, 5, 1, 2, 4, 5, 3, 4, 5, 1, 3, 3, 1, 3, 5, 1, 2, 1, 2, 3, 4, 5, 1, 2, 3, 5, 3, 2, 4, 2, 4, 5, 1, 2, 3, 5, 1, 3, 2, 3, 4, 1, 3, 1, 2, 3, 5, 1, 2, 3, 4, 5, 3, 4, 5, 2, 3, 4, 5, 1, 2, 3, 4, 5, 1, 3, 4, 5, 1, 2, 3, 5, 1, 1, 2, 3, 4, 5, 1, 2, 3, 4, 5, 1, 2, 3, 3, 2, 3, 5, 3, 1, 2, 3, 4, 5, 2, 3, 4, 5, 3, 1, 3, 4, 1, 2, 5, 1, 2, 3, 1, 3, 5, 1, 2, 3, 4, 2, 3, 1, 3, 4, 5, 2, 3, 2, 3, 2, 3, 4, 5, 3, 2, 1, 2, 3, 5, 5, 2, 3, 4, 1, 2, 3, 4, 5, 5, 2, 3, 3, 1, 2, 3, 4, 2, 2, 1, 2, 3, 4, 1, 2, 3, 5, 1, 2, 3, 4, 5, 1, 2, 3, 5, 1, 2, 3, 1, 2, 3, 4, 2, 1, 3, 2, 3, 4, 2, 1, 2, 3, 4, 5, 1, 2, 3, 2, 2, 5, 2, 3, 1, 2, 3, 5, 2, 3, 1, 3, 4, 5, 3, 4, 2, 3, 5, 1, 1, 4, 5, 2, 3, 4, 5, 1, 4, 2, 3, 2, 5, 1, 3, 2, 5, 1, 3, 5, 1, 1, 2, 3, 4, 5, 1, 5, 3, 1, 2, 3, 4, 5, 2, 3, 2, 3, 5, 3, 5, 1, 2, 3, 5, 1, 2, 1, 2, 3, 4, 5, 1, 3, 5, 2, 3, 4, 5, 1, 3, 5, 5, 1, 5, 5, 1, 2, 3, 4, 5, 3, 4, 5, 5, 5, 1, 2, 3, 4, 5, 1, 3, 5, 1, 1, 5, 1, 1, 2, 3, 4, 5, 1, 1, 2, 3, 4, 5, 3, 1, 2, 1, 2, 3, 4, 5, 2, 1, 2, 4, 2, 3, 1, 2, 3, 4, 1, 2, 3, 4, 5, 1, 3, 4, 1, 2, 2, 1, 2, 3, 4, 5, 1, 2, 3, 4, 5, 1, 2, 3, 4, 3, 5, 3, 2, 3, 3, 1, 3, 4, 5, 1, 2, 3, 4, 5, 2, 3, 5, 2, 3, 4, 1, 3, 1, 2, 3, 5, 1, 2, 3, 4, 5, 1, 1, 2, 3, 4, 5, 2, 5, 1, 2, 3, 4, 5, 5, 5, 5, 1, 2, 3, 4, 5, 1, 2, 3, 5, 2, 3, 4, 1, 2, 3, 4, 2, 1, 2, 3, 4, 5, 1, 3, 5, 2, 3, 5, 5, 2, 3, 1, 2, 3, 5, 1, 2, 3, 4, 2, 4, 1, 3, 1, 2, 3, 4, 1, 2, 3, 4, 5, 1, 2, 3, 5, 1, 2, 3, 4, 3, 3, 5, 2, 4, 1, 2, 3, 4, 5, 1, 3, 5, 2, 1, 2, 3, 4, 5, 2, 3, 1, 3, 4, 5, 5, 3, 2, 3, 4, 5, 1, 2, 3, 5, 2, 3, 4, 1, 1, 5, 1, 2, 1, 3, 5, 1, 2, 3, 4, 5, 1, 2, 3, 4, 5, 1, 2, 3, 1, 2, 4, 1, 1, 1, 1, 2, 3, 4, 5, 2, 3, 4, 1, 2, 3, 4, 5, 1, 4, 1, 2, 3, 4, 5, 1, 1, 2, 4, 5, 2, 3, 1, 2, 3, 4, 2, 3, 4, 2, 5, 1, 4, 3, 1, 2, 3, 4, 5, 2, 1, 2, 3, 4, 1, 2, 3, 1, 2, 3, 2, 3, 4, 5, 1, 2, 3, 4, 2, 2, 3, 2, 5, 2, 4, 3, 5, 4, 2, 4, 1, 2, 3, 4, 5, 3, 3, 1, 2, 3, 4, 2, 4, 1, 2, 3, 4, 5, 2, 3, 4, 5, 2, 5, 1, 2, 3, 4, 5, 1, 5, 1, 2, 3, 4, 5, 1, 2, 2, 3, 1, 1, 2, 3, 4, 5, 2, 3, 5, 1, 2, 3, 5, 1, 2, 4, 1, 2, 3, 4, 5, 2, 3, 4, 5, 3, 2, 3, 1, 2, 3, 4, 5, 2, 3, 4, 5, 1, 2, 3, 4, 5, 1, 2, 3, 4, 5, 3, 4, 5, 5, 1, 3, 5, 1, 2, 3, 1, 2, 3, 4, 5, 5, 5, 3, 1, 5, 1, 2, 3, 4, 5, 2, 3, 4, 5, 3, 4, 1, 2, 3, 4, 5, 3, 4, 3, 5, 5, 3, 5, 1, 2, 3, 4, 5, 3, 4, 2, 3, 4, 5, 1, 2, 2, 3, 4, 2, 4, 1, 2, 3, 4, 5, 1, 2, 3, 4, 5, 1, 2, 3, 4, 5, 5, 5, 3, 3, 4, 2, 3, 4, 5, 1, 2, 3, 4, 5, 1, 2, 3, 4, 1, 2, 3, 5, 2, 3, 4, 2, 3, 4, 5, 1, 3, 5, 1, 2, 3, 4, 5, 1, 2, 3, 4, 5, 3, 1, 2, 3, 5, 3, 1, 3, 5, 1, 2, 3, 4, 5, 1, 1, 2, 3, 5, 1, 2, 3, 5, 5, 1, 2, 3, 4, 5, 1, 2, 3, 4, 5, 2, 3, 5, 1, 1, 1, 3, 5, 1, 3, 5, 1, 2, 3, 5], \"Freq\": [0.0810607728195402, 0.3207187098512243, 0.5533278840290353, 0.04229257712323837, 0.003524381426936531, 0.099343073924984, 0.6495508679710491, 0.24453679735380673, 0.3104772557033813, 0.6209545114067626, 0.9318591357129558, 0.0665613668366397, 0.1556780593219808, 0.6227122372879232, 0.41106804500747285, 0.17838801953154482, 0.37228804076148486, 0.03878000424598801, 0.8662716446990142, 0.06794287409404033, 0.050957155570530245, 0.20284872494150505, 0.6761624164716835, 0.12020665181718819, 0.07976696766674436, 0.9173201281675601, 0.9741520128739296, 0.11379693291341869, 0.28069910118643276, 0.5120861981103841, 0.015172924388455826, 0.07586462194227912, 0.0954726921172432, 0.5114608506280885, 0.30687651037685315, 0.06137530207537063, 0.01363895601674903, 0.042429800654889396, 0.016971920261955757, 0.33943840523911517, 0.025457880392933636, 0.5770452889064958, 0.17359077485976473, 0.8100902826789022, 0.9828329191616179, 0.11618036111684778, 0.6555891805879268, 0.08298597222631984, 0.1493747500073757, 0.008298597222631985, 0.13872324326424754, 0.016320381560499708, 0.1958445787259965, 0.6446550716397385, 0.0840454170494152, 0.8964844485270955, 0.9517883280678044, 0.03226401112094252, 0.9722526172035449, 0.9741576821733938, 0.31242423253481905, 0.7029545232033428, 0.1122426139664279, 0.028060653491606975, 0.8418196047482093, 0.9793120937505333, 0.35425157231932275, 0.18074059812210347, 0.21688871774652416, 0.04337774354930483, 0.20242946989675586, 0.3210270140942918, 0.19513406739064795, 0.15107153604437262, 0.012589294670364385, 0.3210270140942918, 0.2979379950405246, 0.0496563325067541, 0.6455323225878034, 0.1560125469692086, 0.1155648496068212, 0.47959412586830796, 0.2426861841743245, 0.01155648496068212, 0.07500202690406187, 0.07500202690406187, 0.7750209446753059, 0.07500202690406187, 0.027096089810992124, 0.9212670535737323, 0.05419217962198425, 0.9220712255888425, 0.041912328435856475, 0.9744577833246209, 0.20773177837517273, 0.07331709825006096, 0.7087319497505893, 0.17252676018258598, 0.8051248808520679, 0.014488654645459152, 0.34289815994253325, 0.2414775774243192, 0.3187504022001013, 0.0869319278727549, 0.16766647206976898, 0.062098693359173694, 0.14903686406201688, 0.620986933591737, 0.9591397518837921, 0.18329114014668096, 0.7331645605867239, 0.05022907035730924, 0.8538941960742571, 0.05022907035730924, 0.5684622112247796, 0.12870842518296896, 0.23596544616877643, 0.06435421259148448, 0.9441377745427909, 0.9899884793424488, 0.07594245375893525, 0.07594245375893525, 0.8353669913482877, 0.9486516520414797, 0.04992903431797262, 0.015013348863898593, 0.030026697727797185, 0.10509344204729015, 0.8407475363783212, 0.13456615346355302, 0.11136509252156113, 0.6821111916945619, 0.00928042437679676, 0.06496297063757732, 0.16605989807932914, 0.7116852774828392, 0.14233705549656783, 0.14024206905238712, 0.14024206905238712, 0.6661498279988388, 0.07012103452619356, 0.4937506042054663, 0.02057294184189443, 0.06171882552568329, 0.3497400113122053, 0.07200529644663049, 0.875041225896317, 0.08627167015879182, 0.012324524308398832, 0.012324524308398832, 0.6159925800329846, 0.13588071618374659, 0.1721155738327457, 0.06341100088574841, 0.9615013545113427, 0.04799472069490529, 0.5359410477597757, 0.2639709638219791, 0.007999120115817548, 0.14398416208471587, 0.11933051327790051, 0.06508937087885482, 0.2440851407957056, 0.010848228479809137, 0.553259652470266, 0.00899526937257167, 0.0899526937257167, 0.8995269372571669, 0.9569940311736062, 0.013488034277950499, 0.9576504337344854, 0.013488034277950499, 0.984467137916596, 0.02873550056068612, 0.474135759251321, 0.3160905061675473, 0.13649362766325907, 0.05028712598120071, 0.9046323873891151, 0.17422042113974476, 0.6533265792740429, 0.1306653158548086, 0.979472211028688, 0.07806259970891669, 0.15612519941783337, 0.7025633973802502, 0.9137510864054998, 0.026875031953102937, 0.026875031953102937, 0.013041486873226428, 0.73032326490068, 0.24778825059130213, 0.01885711822940164, 0.03771423645880328, 0.9239987932406803, 0.027050905328705948, 0.09467816865047081, 0.8521035178542373, 0.027050905328705948, 0.14245818355396947, 0.8547491013238169, 0.03764305042663349, 0.630521094646111, 0.3011444034130679, 0.028232287819975117, 0.8851268726106302, 0.07376057271755251, 0.9110037355926924, 0.06073358237284616, 0.1545691523715759, 0.20609220316210117, 0.5925150840910409, 0.025761525395262646, 0.9725476529892222, 0.9187787234136116, 0.6288039748562184, 0.05154130941444413, 0.2680148089551095, 0.05154130941444413, 0.9517514675357234, 0.17205916261253903, 0.34411832522507807, 0.477942118368164, 0.12619830137034957, 0.2158655155019137, 0.26235962653309514, 0.06642015861597345, 0.3287797851490686, 0.9517083431656467, 0.03254281326019713, 0.9600129911758153, 0.9844669617265116, 0.006441745930190968, 0.33497078836993033, 0.3414125343001213, 0.31564555057935745, 0.9300856341371128, 0.9470150100301956, 0.034560484036426004, 0.8442632528898353, 0.11355587611968544, 0.004937212005203715, 0.0405098126783445, 0.008101962535668899, 0.04861177521401339, 0.8912158789235789, 0.3816612557959096, 0.02848218326835146, 0.02848218326835146, 0.017089309961010875, 0.5411614820986778, 0.07198410553220813, 0.0575872844257665, 0.10077774774509138, 0.7774283397478478, 0.9280434092104957, 0.029936884168080505, 0.029936884168080505, 0.07344524213737745, 0.11541395193016457, 0.7869133086147584, 0.010492177448196778, 0.9046384954430735, 0.017988440585439552, 0.9713757916137358, 0.16790372133563905, 0.08395186066781953, 0.6716148853425562, 0.952856419034867, 0.035271986234528305, 0.07054397246905661, 0.07054397246905661, 0.705439724690566, 0.07054397246905661, 0.034413365022326455, 0.8947474905804877, 0.034413365022326455, 0.9301097325988816, 0.9038401340746266, 0.06456000957675904, 0.9211690122091741, 0.07369352097673393, 0.041071481028377904, 0.010267870257094476, 0.05133935128547239, 0.8933047123672195, 0.9566329982726337, 0.037515019540103285, 0.026328105854023, 0.315937270248276, 0.579218328788506, 0.052656211708046, 0.2862085333056525, 0.686900479933566, 0.031856249339338547, 0.15928124669669272, 0.7964062334834636, 0.9256464688410136, 0.02200070915349448, 0.9240297844467682, 0.0550017728837362, 0.055068969305254505, 0.1982482894989162, 0.011013793861050902, 0.7379241886904103, 0.8647201502415655, 0.12810668892467636, 0.9424926839428648, 0.05334864248733197, 0.8697654819600577, 0.0543603426225036, 0.8921305307953002, 0.07757656789524349, 0.9718741368081779, 0.9517175033513671, 0.8368679514662433, 0.10460849393328041, 0.052304246966640204, 0.9578186875390591, 0.8561345703469044, 0.05632464278598055, 0.022529857114392222, 0.011264928557196111, 0.045059714228784443, 0.950209312275789, 0.03276583835433755, 0.9809865985032884, 0.03546487060514119, 0.18239076311215469, 0.42051203717524555, 0.3445158858785144, 0.015199230259346224, 0.023300705861651488, 0.955328940327711, 0.022032321715268737, 0.15422625200688117, 0.8151959034649433, 0.22282559788802878, 0.7639734784732415, 0.052841414269113485, 0.052841414269113485, 0.27175584481258364, 0.6114506508283132, 0.8983741089627978, 0.07486450908023315, 0.22187945453977512, 0.21535358822978173, 0.15988372459483796, 0.013051732619986772, 0.38828904544460646, 0.1924323288056389, 0.1374516634325992, 0.6666405676481062, 0.27707697965027916, 0.4958219635847101, 0.2150992342021904, 0.010937249196721547, 0.684912415567056, 0.13045950772705828, 0.17938182312470513, 0.9747153465437531, 0.028045062070442977, 0.9535321103950611, 0.9159162950935624, 0.26368825673269275, 0.030135800769450598, 0.14314505365489036, 0.20341665519379154, 0.35409565904104456, 0.29806527578963166, 0.49677545964938613, 0.19871018385975445, 0.9730614541741504, 0.976846210094796, 0.241745730387174, 0.3056030931309558, 0.3056030931309558, 0.013683720587953245, 0.13227596568354805, 0.7836299372662828, 0.13931198884733917, 0.052241995817752185, 0.9256513114741095, 0.9410965765066315, 0.026888473614475186, 0.9578246004474835, 0.37405980330450694, 0.06801087332809216, 0.3211624573826575, 0.022670291109364055, 0.21158938368739785, 0.9741549473904456, 0.28914705556109843, 0.012946883084825302, 0.4790346741385362, 0.01726251077976707, 0.20715012935720484, 0.9860063417652591, 0.0795148253070328, 0.8746630783773608, 0.13728531506930827, 0.5834625890445602, 0.20592797260396242, 0.06864265753465414, 0.008580332191831767, 0.9469956892201578, 0.8190694719147286, 0.029784344433262857, 0.13402954994968286, 0.8991178365429465, 0.10577856900505253, 0.012609753805565655, 0.731365720722808, 0.2017560608890505, 0.037829261416696965, 0.007414033808480251, 0.533810434210578, 0.19276487902048653, 0.17052277759504578, 0.09638243951024326, 0.029005032294647768, 0.11602012917859107, 0.8411459365447852, 0.04802570167645248, 0.9365011826908234, 0.9185247370034215, 0.04142761769272882, 0.7456971184691188, 0.11599732953964069, 0.049713141231274585, 0.049713141231274585, 0.1453788898290341, 0.030287268714382108, 0.5330559293731251, 0.27864287217231537, 0.018172361228629263, 0.7029720983022675, 0.015621602184494834, 0.21870243058292768, 0.0468648065534845, 0.9434523369838731, 0.041019666825385784, 0.976843174103164, 0.007590279912073784, 0.9943266684816656, 0.9838088129603842, 0.05584493062141435, 0.10052087511854584, 0.022337972248565742, 0.8153359870726495, 0.11069865076087956, 0.04744227889751981, 0.18449775126813261, 0.031628185931679875, 0.6272923543116509, 0.9187716782342557, 0.9855314101504213, 0.9639411711420351, 0.042119978663997325, 0.4001397973079746, 0.5264997332999666, 0.023311842609143707, 0.9557855469748919, 0.7408452327477387, 0.016837391653357698, 0.16837391653357697, 0.06734956661343079, 0.32358901133774515, 0.006222865602648946, 0.23646889290065992, 0.018668596807946837, 0.4107091297748304, 0.9790896890107275, 0.08232777219122286, 0.07409499497210058, 0.19758665325893487, 0.02469833165736686, 0.6174582914341715, 0.8819263692501315, 0.10755199625001603, 0.04955522463670319, 0.20441530162640068, 0.22919291394475227, 0.012388806159175798, 0.5079410525262077, 0.9730763360115815, 0.9517097050073356, 0.985888309237924, 0.1565800939901768, 0.059246522050337175, 0.18197146058317845, 0.008463788864333882, 0.5924652205033717, 0.3509689198574639, 0.006051188273404551, 0.04235831791383185, 0.5990676390670505, 0.19699973291830128, 0.1641664440985844, 0.6238324875746207, 0.03911460556009658, 0.32856268670481126, 0.32073976559279194, 0.3050939233687533, 0.9046428264865367, 0.14717370237100855, 0.14717370237100855, 0.13168173370037606, 0.023237953005948716, 0.549964887807453, 0.01178096411034073, 0.04712385644136292, 0.9424771288272583, 0.016719173731405003, 0.050157521194215016, 0.9195545552272752, 0.983189830625515, 0.9338892717019843, 0.049152066931683384, 0.08196570731822693, 0.08909316012850753, 0.3278628292729077, 0.49892169671964215, 0.03510906224012334, 0.7841023900294214, 0.05851510373353891, 0.11703020746707782, 0.24165871186106463, 0.6041467796526616, 0.06693917081082622, 0.937148391351567, 0.00973284346691398, 0.7494289469523765, 0.22385539973902155, 0.01946568693382796, 0.020393116116824615, 0.05098279029206154, 0.7851349704977477, 0.030589674175236926, 0.1121621386425354, 0.07045682876017785, 0.3029643636687647, 0.6059287273375294, 0.021137048628053354, 0.016198968892362397, 0.25918350227779835, 0.6965556623715831, 0.016198968892362397, 0.9725472889512975, 0.04146839886652819, 0.9537731739301485, 0.02319004803078214, 0.9507919692620677, 0.05656267726149075, 0.08998607746146256, 0.7713092353839648, 0.010284123138452863, 0.07455989275378326, 0.1964403503530887, 0.6449791503259746, 0.1604262861216891, 0.9854327180416803, 0.12050210568717733, 0.4171226735325369, 0.42175736990512064, 0.0324428746080862, 0.009269392745167486, 0.17518955760064914, 0.8133800888601568, 0.1932689605654476, 0.29990011122224625, 0.05331557532839933, 0.45318239029139434, 0.9439403116921999, 0.9868209839771628, 0.05792764243120752, 0.28963821215603763, 0.598585638455811, 0.05792764243120752, 0.18259469515005294, 0.0635111983130619, 0.23022809388484936, 0.5239673860827606, 0.8822560731592085, 0.02594870803409437, 0.0778461241022831, 0.9791220667782541, 0.9741526684057153, 0.963472573933924, 0.9890743853999018, 0.9528265117236364, 0.05505003614258297, 0.8074005300912169, 0.13762509035645742, 0.01130440250060021, 0.13565283000720252, 0.4936255758595425, 0.026376939168067156, 0.3278276725174061, 0.10970901136167097, 0.6682276146574505, 0.1496031973113695, 0.059841278924547804, 0.019947092974849267, 0.7625525700149549, 0.14919506804640423, 0.08288614891466901, 0.9352043405511185, 0.03817160573678034, 0.01908580286839017, 0.9179392097621819, 0.9791471645133367, 0.9256748213294932, 0.3772830856334121, 0.1169046180835925, 0.14878769574275408, 0.09564923297748477, 0.26037846754981964, 0.8124890662796296, 0.15089082659478834, 0.0348209599834127, 0.06159427246005762, 0.776087832996726, 0.08623198144408067, 0.02463770898402305, 0.0492754179680461, 0.9723968908369192, 0.03889587563347677, 0.6813047703714911, 0.030280212016510714, 0.15140106008255358, 0.015140106008255357, 0.1059807420577875, 0.9860618477954795, 0.8442638082787408, 0.0511675035320449, 0.02558375176602245, 0.07675125529806735, 0.021357500171738028, 0.9610875077282112, 0.021561717723572193, 0.19405545951214975, 0.45279607219501605, 0.3234257658535829, 0.04775774125325332, 0.9312759544384397, 0.02387887062662666, 0.8413699518855176, 0.15297635488827593, 0.3239285314125437, 0.6478570628250874, 0.9860075615450908, 0.016778246177388146, 0.10066947706432888, 0.8624018535177507, 0.013422596941910517, 0.010066947706432888, 0.9470315267248145, 0.023545766014924644, 0.7063729804477393, 0.08241018105223626, 0.18836612811939715, 0.021353576483876573, 0.5893587109549934, 0.3886350920065536, 0.018419902482898015, 0.8841553191791047, 0.09209951241449008, 0.07628658406242192, 0.20706358531228808, 0.6974773399992862, 0.010898083437488847, 0.024737563808353957, 0.3413783805552846, 0.5640164548304702, 0.06926517866339107, 0.983250370750612, 0.8841658790425603, 0.11052073488032003, 0.0494461367634222, 0.9394765985050217, 0.2597067713369073, 0.6752376054759589, 0.9612679176444988, 0.04272301856197772, 0.9464887911259559, 0.9526529003928688, 0.027218654296939107, 0.011342752605708708, 0.2949115677484264, 0.3743108359883874, 0.2949115677484264, 0.022685505211417416, 0.97508090847937, 0.9768403988953394, 0.07644785055488122, 0.7166985989520114, 0.2006756077065632, 0.009555981319360153, 0.9116447680965689, 0.07597039734138074, 0.04312640487150914, 0.04312640487150914, 0.2371952267933003, 0.5390800608938643, 0.12937921461452742, 0.8971779567590079, 0.04600912598764143, 0.04600912598764143, 0.011502281496910358, 0.04944612830035648, 0.9394764377067731, 0.3640015683070266, 0.04254563785406805, 0.21272818927034023, 0.0756366895183432, 0.3025467580733728, 0.9118002475876292, 0.04559001237938146, 0.5259217089368756, 0.11027390671257069, 0.22054781342514138, 0.04241304104329642, 0.11027390671257069, 0.9486184299183297, 0.024963642892587623, 0.04457542837513957, 0.9583717100655008, 0.9741590756959438, 0.06429667747593426, 0.002521438332389579, 0.4815947214864096, 0.010085753329558316, 0.4425124273343711, 0.026587292510850378, 0.026587292510850378, 0.9305552378797632, 0.08676863807691233, 0.15039897266664803, 0.6073804665383863, 0.1561835485384422, 0.8387046340123864, 0.1347918161805621, 0.029953736929013798, 0.4500789265498901, 0.16366506419996005, 0.26186410271993604, 0.016366506419996003, 0.11456554493997202, 0.20609997705509372, 0.5358599403432437, 0.22258797521950122, 0.032975996328815, 0.959155324526371, 0.01934022035876508, 0.9670110179382538, 0.019539440262370558, 0.39078880524741116, 0.3614796448538553, 0.18562468249252032, 0.039078880524741115, 0.6389665077890982, 0.25139665880226814, 0.08379888626742271, 0.020949721566855678, 0.43425179239339484, 0.26174080637410096, 0.17845964070961431, 0.029743273451602385, 0.09517847504512764, 0.008075401576004755, 0.2907144567361712, 0.1292064252160761, 0.5006748977122948, 0.06460321260803804, 0.07162617253160468, 0.931140242910861, 0.9858899031337274, 0.976847721545233, 0.8252089287645277, 0.16504178575290554, 0.9582901527795723, 0.15040708577895082, 0.8272389717842296, 0.037601771444737704, 0.17354526776314316, 0.23139369035085752, 0.13980035458697643, 0.24585579599778612, 0.2121108828216194, 0.968806916503587, 0.9634718147843109, 0.9877399224950696, 0.974159402780917, 0.9730856837573963, 0.020258277817634594, 0.5449476732943705, 0.4071913841344553, 0.02430993338116151, 0.0020258277817634595, 0.46023853805278503, 0.3825359277321849, 0.1285081632225309, 0.02988561935407695, 0.2985972002214365, 0.7025816475798505, 0.22456631313932532, 0.039629349377527996, 0.26419566251685334, 0.4227130600269653, 0.05283913250337066, 0.24792201403646336, 0.6941816393020974, 0.10361062324280057, 0.8703292352395248, 0.9155906582008511, 0.037037615079233845, 0.9259403769808461, 0.06942763081683229, 0.6109631511881242, 0.2568822340222795, 0.04165657849009937, 0.020828289245049685, 0.20515650877314212, 0.7522405321681878, 0.37449593869143005, 0.3517992151343737, 0.23831559734909186, 0.03404508533558455, 0.9416918597765407, 0.03553554187836003, 0.8635719018658118, 0.10159669433715433, 0.01693278238952572, 0.9633156388043326, 0.9401648607986179, 0.14675831426274502, 0.041930946932212866, 0.1257928407966386, 0.010482736733053217, 0.6708951509154059, 0.1581206596825119, 0.0527068865608373, 0.22588665668930274, 0.03764777611488379, 0.5270688656083731, 0.036049448080320186, 0.05046922731244826, 0.0576791169285123, 0.02162966884819211, 0.8291373058473642, 0.9517258864442057, 0.9688002292594614, 0.9887573654479934, 0.37819917527760516, 0.5943129897219509, 0.3320997436855125, 0.47490263347028283, 0.16937086927961137, 0.01992598462113075, 0.22292960908506582, 0.5162580420917314, 0.14079764784319948, 0.06648777814817752, 0.0508435950544887, 0.022969225531212677, 0.8957997957172944, 0.045938451062425355, 0.022969225531212677, 0.9491411756060593, 0.06091897156583751, 0.12183794313167502, 0.8122529542111668, 0.017710029160661344, 0.9386315455150511, 0.017710029160661344, 0.10888282802069543, 0.7621797961448681, 0.0068051767512934645, 0.12249318152328237, 0.017283497863414342, 0.051850493590243026, 0.9333088846243746, 0.240220246308582, 0.4373240381515211, 0.043116454465642925, 0.04927594796073477, 0.2279012593183983, 0.27104302401460656, 0.1025568198974187, 0.2197646140658972, 0.04029017924541449, 0.36627435677649534, 0.966611080643811, 0.24360344959163416, 0.1059145433007105, 0.5401641708336236, 0.11121027046574603, 0.9570291314565138, 0.13240572769611617, 0.13240572769611617, 0.7355873760895342, 0.09366222854621185, 0.08429600569159067, 0.7680302740789372, 0.028098668563863557, 0.028098668563863557, 0.974159335084903, 0.03639508390049874, 0.01819754195024937, 0.03639508390049874, 0.8916795555622192, 0.5725701122719186, 0.02290280449087674, 0.1488682291906988, 0.25193084939964416, 0.9688104492074915, 0.250335900546626, 0.34661893921840525, 0.23878193590601252, 0.011553964640613508, 0.1540528618748468, 0.1172694241414738, 0.2501747715018108, 0.4612597349564636, 0.007817961609431587, 0.16026821299334754, 0.02409858971079398, 0.09639435884317592, 0.8675492295885833, 0.9713210155053551, 0.9740997821452454, 0.04939817702106699, 0.04939817702106699, 0.8891671863792058, 0.06418903495633792, 0.866551971910562, 0.06418903495633792, 0.05912867260196978, 0.07391084075246222, 0.21434143818214046, 0.6504153986216676], \"Term\": [\"000\", \"000\", \"000\", \"000\", \"000\", \"1960\", \"1960\", \"1960\", \"63\", \"63\", \"academic\", \"academic\", \"accommodate\", \"accommodate\", \"act\", \"act\", \"act\", \"act\", \"activities\", \"activities\", \"activities\", \"administration\", \"administration\", \"administration\", \"alexander\", \"alexander\", \"amateur\", \"american\", \"american\", \"american\", \"american\", \"american\", \"area\", \"area\", \"area\", \"area\", \"area\", \"asked\", \"asked\", \"asked\", \"asked\", \"asked\", \"assessment\", \"assessment\", \"aug\", \"available\", \"available\", \"available\", \"available\", \"available\", \"away\", \"away\", \"away\", \"away\", \"baby\", \"baby\", \"ball\", \"ball\", \"baseball\", \"bat\", \"battery\", \"battery\", \"bed\", \"bed\", \"bed\", \"berlin\", \"best\", \"best\", \"best\", \"best\", \"best\", \"better\", \"better\", \"better\", \"better\", \"better\", \"blocks\", \"blocks\", \"blocks\", \"board\", \"board\", \"board\", \"board\", \"board\", \"boat\", \"boat\", \"boat\", \"boat\", \"boats\", \"boats\", \"boats\", \"bob\", \"bob\", \"bombs\", \"boy\", \"boy\", \"boy\", \"bridge\", \"bridge\", \"business\", \"business\", \"business\", \"business\", \"business\", \"came\", \"came\", \"came\", \"came\", \"castro\", \"catastrophe\", \"catastrophe\", \"cattle\", \"cattle\", \"cattle\", \"center\", \"center\", \"center\", \"center\", \"charlie\", \"charter\", \"chemical\", \"chemical\", \"chemical\", \"chest\", \"chest\", \"child\", \"child\", \"child\", \"child\", \"city\", \"city\", \"city\", \"city\", \"city\", \"claim\", \"claim\", \"claim\", \"claims\", \"claims\", \"claims\", \"claims\", \"class\", \"class\", \"class\", \"class\", \"class\", \"clay\", \"clay\", \"clay\", \"clay\", \"club\", \"club\", \"club\", \"club\", \"coach\", \"college\", \"college\", \"college\", \"college\", \"college\", \"come\", \"come\", \"come\", \"come\", \"come\", \"committee\", \"committee\", \"committee\", \"communism\", \"communist\", \"communist\", \"communist\", \"communists\", \"company\", \"company\", \"company\", \"company\", \"company\", \"comprehensive\", \"concrete\", \"concrete\", \"concrete\", \"congo\", \"conversion\", \"conversion\", \"conversion\", \"cooling\", \"cooling\", \"cooling\", \"corps\", \"corps\", \"corps\", \"couldn\", \"couldn\", \"couldn\", \"council\", \"council\", \"council\", \"council\", \"county\", \"county\", \"court\", \"court\", \"court\", \"court\", \"coverage\", \"coverage\", \"creative\", \"creative\", \"credit\", \"credit\", \"credit\", \"credit\", \"cuba\", \"curriculum\", \"cut\", \"cut\", \"cut\", \"cut\", \"dad\", \"daily\", \"daily\", \"daily\", \"day\", \"day\", \"day\", \"day\", \"day\", \"dear\", \"democratic\", \"democratic\", \"democrats\", \"department\", \"department\", \"department\", \"department\", \"depreciation\", \"designers\", \"development\", \"development\", \"development\", \"development\", \"didn\", \"didn\", \"didn\", \"didn\", \"don\", \"don\", \"don\", \"don\", \"don\", \"door\", \"door\", \"door\", \"door\", \"drill\", \"drill\", \"drill\", \"east\", \"east\", \"east\", \"east\", \"educated\", \"election\", \"election\", \"electricity\", \"electricity\", \"electricity\", \"employee\", \"engine\", \"engine\", \"engine\", \"engine\", \"engine\", \"engineers\", \"engineers\", \"engineers\", \"evaluation\", \"exceed\", \"exceed\", \"expenditures\", \"expenditures\", \"eyes\", \"eyes\", \"eyes\", \"eyes\", \"faculty\", \"faculty\", \"farm\", \"farm\", \"farm\", \"farm\", \"farmers\", \"farmers\", \"father\", \"father\", \"father\", \"favorite\", \"feed\", \"feed\", \"feed\", \"felt\", \"felt\", \"felt\", \"felt\", \"fig\", \"fig\", \"fiscal\", \"fiscal\", \"fishing\", \"fishing\", \"football\", \"football\", \"forests\", \"fountain\", \"frame\", \"frame\", \"frame\", \"gallery\", \"game\", \"game\", \"game\", \"game\", \"game\", \"games\", \"games\", \"gen\", \"general\", \"general\", \"general\", \"general\", \"general\", \"georgia\", \"georgia\", \"girl\", \"girl\", \"girl\", \"god\", \"god\", \"going\", \"going\", \"going\", \"going\", \"golf\", \"golf\", \"good\", \"good\", \"good\", \"good\", \"good\", \"got\", \"got\", \"got\", \"government\", \"government\", \"government\", \"government\", \"green\", \"green\", \"green\", \"hadn\", \"hair\", \"hair\", \"handsome\", \"head\", \"head\", \"head\", \"head\", \"head\", \"hearing\", \"hearing\", \"hearing\", \"heel\", \"hell\", \"high\", \"high\", \"high\", \"high\", \"high\", \"hit\", \"hit\", \"hit\", \"hits\", \"hole\", \"hole\", \"holes\", \"home\", \"home\", \"home\", \"home\", \"home\", \"homer\", \"house\", \"house\", \"house\", \"house\", \"house\", \"hughes\", \"import\", \"import\", \"important\", \"important\", \"important\", \"important\", \"important\", \"imports\", \"inch\", \"inch\", \"inch\", \"india\", \"india\", \"industrial\", \"industrial\", \"industrial\", \"industrial\", \"interest\", \"interest\", \"interest\", \"interest\", \"interest\", \"interference\", \"interference\", \"interference\", \"interior\", \"interior\", \"inventory\", \"island\", \"island\", \"island\", \"island\", \"island\", \"john\", \"john\", \"john\", \"john\", \"john\", \"junior\", \"junior\", \"junior\", \"junior\", \"jury\", \"jury\", \"katanga\", \"kennedy\", \"kennedy\", \"khrushchev\", \"knew\", \"knew\", \"knew\", \"knew\", \"know\", \"know\", \"know\", \"know\", \"know\", \"laboratories\", \"laos\", \"laughed\", \"laws\", \"laws\", \"laws\", \"leader\", \"leader\", \"league\", \"league\", \"league\", \"league\", \"left\", \"left\", \"left\", \"left\", \"left\", \"leg\", \"let\", \"let\", \"let\", \"let\", \"let\", \"library\", \"library\", \"life\", \"life\", \"life\", \"life\", \"life\", \"liked\", \"lips\", \"listening\", \"little\", \"little\", \"little\", \"little\", \"little\", \"ll\", \"ll\", \"ll\", \"ll\", \"loans\", \"loans\", \"loans\", \"local\", \"local\", \"local\", \"local\", \"locations\", \"look\", \"look\", \"look\", \"look\", \"look\", \"looked\", \"looked\", \"looked\", \"love\", \"love\", \"love\", \"loved\", \"maintain\", \"maintain\", \"man\", \"man\", \"man\", \"man\", \"management\", \"management\", \"management\", \"management\", \"manufactured\", \"manufactured\", \"mayor\", \"mayor\", \"medical\", \"medical\", \"medical\", \"medical\", \"meeting\", \"meeting\", \"meeting\", \"meeting\", \"meeting\", \"members\", \"members\", \"members\", \"members\", \"military\", \"military\", \"military\", \"military\", \"moscow\", \"mother\", \"mother\", \"motors\", \"motors\", \"mr\", \"mr\", \"mr\", \"mr\", \"mr\", \"mrs\", \"mrs\", \"mrs\", \"musical\", \"national\", \"national\", \"national\", \"national\", \"national\", \"nations\", \"nations\", \"night\", \"night\", \"night\", \"night\", \"nodded\", \"nuclear\", \"officer\", \"officer\", \"officer\", \"officer\", \"old\", \"old\", \"old\", \"old\", \"organizations\", \"organizations\", \"organizations\", \"paint\", \"paintings\", \"pale\", \"panels\", \"participation\", \"party\", \"party\", \"party\", \"people\", \"people\", \"people\", \"people\", \"people\", \"period\", \"period\", \"period\", \"period\", \"period\", \"piece\", \"piece\", \"piece\", \"pieces\", \"pieces\", \"pieces\", \"pitcher\", \"pitching\", \"pittsburgh\", \"place\", \"place\", \"place\", \"place\", \"place\", \"planning\", \"planning\", \"planning\", \"plant\", \"plant\", \"plant\", \"plant\", \"plant\", \"plastic\", \"plastic\", \"play\", \"play\", \"play\", \"play\", \"play\", \"player\", \"playing\", \"playing\", \"playing\", \"playing\", \"police\", \"police\", \"policy\", \"policy\", \"policy\", \"policy\", \"political\", \"political\", \"political\", \"pool\", \"pool\", \"pound\", \"pound\", \"premier\", \"president\", \"president\", \"president\", \"president\", \"president\", \"producers\", \"production\", \"production\", \"production\", \"production\", \"program\", \"program\", \"program\", \"projects\", \"projects\", \"projects\", \"property\", \"property\", \"property\", \"property\", \"public\", \"public\", \"public\", \"public\", \"publications\", \"published\", \"published\", \"puerto\", \"puerto\", \"ratio\", \"ratio\", \"rayburn\", \"rayburn\", \"recommendation\", \"recreation\", \"recreation\", \"report\", \"report\", \"report\", \"report\", \"report\", \"republican\", \"republicans\", \"research\", \"research\", \"research\", \"research\", \"resources\", \"resources\", \"respect\", \"respect\", \"respect\", \"respect\", \"respect\", \"rhode\", \"rhode\", \"rhode\", \"rhode\", \"rico\", \"rico\", \"right\", \"right\", \"right\", \"right\", \"right\", \"roy\", \"roy\", \"run\", \"run\", \"run\", \"run\", \"run\", \"runs\", \"runs\", \"russia\", \"russia\", \"ruth\", \"said\", \"said\", \"said\", \"said\", \"said\", \"sat\", \"sat\", \"sat\", \"school\", \"school\", \"school\", \"school\", \"season\", \"season\", \"season\", \"second\", \"second\", \"second\", \"second\", \"second\", \"secretary\", \"secretary\", \"secretary\", \"secretary\", \"sen\", \"senate\", \"senate\", \"service\", \"service\", \"service\", \"service\", \"service\", \"services\", \"services\", \"services\", \"services\", \"set\", \"set\", \"set\", \"set\", \"set\", \"shall\", \"shall\", \"shall\", \"shall\", \"shall\", \"shelter\", \"shelter\", \"shoes\", \"sick\", \"signs\", \"signs\", \"silent\", \"site\", \"site\", \"site\", \"small\", \"small\", \"small\", \"small\", \"small\", \"smile\", \"smiled\", \"soviet\", \"stadium\", \"stared\", \"state\", \"state\", \"state\", \"state\", \"state\", \"states\", \"states\", \"states\", \"states\", \"stations\", \"stations\", \"stock\", \"stock\", \"stock\", \"stock\", \"stock\", \"stockholders\", \"stockholders\", \"stood\", \"stood\", \"strange\", \"susan\", \"susan\", \"system\", \"system\", \"system\", \"system\", \"system\", \"tangible\", \"tangible\", \"tax\", \"tax\", \"tax\", \"tax\", \"team\", \"team\", \"technical\", \"technical\", \"technical\", \"textile\", \"thereof\", \"thing\", \"thing\", \"thing\", \"thing\", \"thing\", \"think\", \"think\", \"think\", \"think\", \"think\", \"thought\", \"thought\", \"thought\", \"thought\", \"thought\", \"till\", \"tongue\", \"troops\", \"trust\", \"trust\", \"united\", \"united\", \"united\", \"united\", \"use\", \"use\", \"use\", \"use\", \"use\", \"vehicles\", \"vehicles\", \"vehicles\", \"vehicles\", \"vernon\", \"voice\", \"voice\", \"voice\", \"vote\", \"vote\", \"vote\", \"war\", \"war\", \"war\", \"war\", \"wasn\", \"wasn\", \"wasn\", \"water\", \"water\", \"water\", \"water\", \"water\", \"way\", \"way\", \"way\", \"way\", \"way\", \"weapons\", \"week\", \"week\", \"week\", \"week\", \"welfare\", \"went\", \"went\", \"went\", \"west\", \"west\", \"west\", \"west\", \"west\", \"willie\", \"woman\", \"woman\", \"woman\", \"woman\", \"won\", \"won\", \"won\", \"won\", \"wondered\", \"work\", \"work\", \"work\", \"work\", \"work\", \"world\", \"world\", \"world\", \"world\", \"world\", \"wouldn\", \"wouldn\", \"wouldn\", \"yankees\", \"yards\", \"yes\", \"yes\", \"yes\", \"yesterday\", \"yesterday\", \"yesterday\", \"young\", \"young\", \"young\", \"young\"]}, \"R\": 30, \"lambda.step\": 0.01, \"plot.opts\": {\"xlab\": \"PC1\", \"ylab\": \"PC2\"}, \"topic.order\": [1, 2, 3, 4, 5]};\n",
       "\n",
       "function LDAvis_load_lib(url, callback){\n",
       "  var s = document.createElement('script');\n",
       "  s.src = url;\n",
       "  s.async = true;\n",
       "  s.onreadystatechange = s.onload = callback;\n",
       "  s.onerror = function(){console.warn(\"failed to load library \" + url);};\n",
       "  document.getElementsByTagName(\"head\")[0].appendChild(s);\n",
       "}\n",
       "\n",
       "if(typeof(LDAvis) !== \"undefined\"){\n",
       "   // already loaded: just create the visualization\n",
       "   !function(LDAvis){\n",
       "       new LDAvis(\"#\" + \"ldavis_el414621403815727210086389479261\", ldavis_el414621403815727210086389479261_data);\n",
       "   }(LDAvis);\n",
       "}else if(typeof define === \"function\" && define.amd){\n",
       "   // require.js is available: use it to load d3/LDAvis\n",
       "   require.config({paths: {d3: \"https://d3js.org/d3.v5\"}});\n",
       "   require([\"d3\"], function(d3){\n",
       "      window.d3 = d3;\n",
       "      LDAvis_load_lib(\"https://cdn.jsdelivr.net/gh/bmabey/pyLDAvis@3.4.0/pyLDAvis/js/ldavis.v3.0.0.js\", function(){\n",
       "        new LDAvis(\"#\" + \"ldavis_el414621403815727210086389479261\", ldavis_el414621403815727210086389479261_data);\n",
       "      });\n",
       "    });\n",
       "}else{\n",
       "    // require.js not available: dynamically load d3 & LDAvis\n",
       "    LDAvis_load_lib(\"https://d3js.org/d3.v5.js\", function(){\n",
       "         LDAvis_load_lib(\"https://cdn.jsdelivr.net/gh/bmabey/pyLDAvis@3.4.0/pyLDAvis/js/ldavis.v3.0.0.js\", function(){\n",
       "                 new LDAvis(\"#\" + \"ldavis_el414621403815727210086389479261\", ldavis_el414621403815727210086389479261_data);\n",
       "            })\n",
       "         });\n",
       "}\n",
       "</script>"
      ],
      "text/plain": [
       "<IPython.core.display.HTML object>"
      ]
     },
     "execution_count": 20,
     "metadata": {},
     "output_type": "execute_result"
    }
   ],
   "source": [
    "pyLDAvis.display(lda_display)"
   ]
  },
  {
   "cell_type": "markdown",
   "id": "a3d14c87",
   "metadata": {},
   "source": [
    "Q: What conclusions do you draw from the visualization above? Please address the principal component scatterplot and the salient terms graph.\n",
    "\n",
    "A: __The visualization above generates a variance report of variables that are either uncorrelated or similar towards all topics from the original Brown data. While Topics 2, 3, and 4 touch or coincide, which indicates that they correlate in terms of significant words within each topic, the most relative terms are inside Topic 3 based on the bubble's size being the biggest. To coincide with the list of the top-30 salient terms, each bubble includes the probability distribution of the frequency of terms from the list.__"
   ]
  }
 ],
 "metadata": {
  "kernelspec": {
   "display_name": "Python 3",
   "language": "python",
   "name": "python3"
  },
  "language_info": {
   "codemirror_mode": {
    "name": "ipython",
    "version": 3
   },
   "file_extension": ".py",
   "mimetype": "text/x-python",
   "name": "python",
   "nbconvert_exporter": "python",
   "pygments_lexer": "ipython3",
   "version": "3.8.8"
  }
 },
 "nbformat": 4,
 "nbformat_minor": 5
}
